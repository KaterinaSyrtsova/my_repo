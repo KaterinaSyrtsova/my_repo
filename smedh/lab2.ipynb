{
 "cells": [
  {
   "cell_type": "markdown",
   "source": [
    "# Лабораторная работа №2: Обработка выборочных данных. Нахождение точечных оценок параметров распределения.\n",
    "\n",
    "Выполнили студентки гр. 8383 Ишанина Людмила и Сырцова Екатерина. Вариант №6."
   ],
   "metadata": {
    "collapsed": false
   }
  },
  {
   "cell_type": "markdown",
   "metadata": {},
   "source": [
    "## Цель работы\n",
    "\n",
    "Получение практических навыков нахождения точечных статистических оценок параметров распределения."
   ]
  },
  {
   "cell_type": "markdown",
   "metadata": {},
   "source": [
    "## Основные теоретические положения\n",
    "\n",
    "**Статистической оценкой** $\\Theta^*$ неизвестного параметра теоретического распределения $\\Theta$ называется функцию от наблюдаемых случайной величины $\\Theta^* = f(x_1,x_2,...,x_n)$.\n",
    "**Статистические оценки**, определяемые одним числом называется **точечными**.\n",
    "Для того, чтобы оценки были надежными, к ним предъявляются требования **несмещенности**, **состоятельности** и **эффективности**.\n",
    "Оценка называется **несмещенной**, если её математическое ожидание равно оцениваемому параметру $\\Theta$ при любом объеме выборки $n$, т.е. $M(\\Theta^*) = \\Theta$.\n",
    "Оценка $\\Theta^*$ называется **эффективной**, если при заданном объеме выборки $n$ она имеет наименьшую возможную дисперсию, т.е. $D(\\Theta^*) \\to min$.\n",
    "Оценка $\\Theta^*$ называется **состоятельной** для параметра $\\Theta$, если она сходится по вероятности к оцениваемому параметру при неограниченном возрастании объема выборки, т.е. $\\lim_{N \\to \\infty} P(|\\Theta - \\Theta^*| \\leq \\epsilon) = 1$, где $\\epsilon > 0$ - скольугодно малое положительное число.\n",
    "Для того, чтобы несмещенная оценка была состоятельной, необходимо и достаточно, чтобы было выполнено условие $\\lim_{N \\to \\infty} D(\\Theta^*) = 0$.\n",
    "\n",
    "**Начальным эмпирическим моменток $k$-го порядка** называется среднее значение $k$-х степеней элементов вариационного или интервального ряда: $\\bar{M_k} = \\frac{1}{N} \\sum{n_j x_j^k}$, в частности $\\bar{x_в} = \\bar{M_1} = \\frac{1}{N} \\sum{n_j x_j}$.\n",
    "**Центральным эмпирическим моментом $k$-го порядка** называется среднее значение $k$-х степеней разностей $x_j - \\bar{x_в}$ для вариационного или интервального ряда: $\\bar{m_k} = \\frac{1}{N} \\sum{n_j (x_j - \\bar{x_в})^k}$.\n",
    "В частности $D_в = \\bar{m_2} = \\frac{1}{N} \\sum{n_j (x_j - \\bar{x_в})^2}$. Указанная статистическая оценка дисперсии является смещенной оценкой, поэтому следует использовать **исправленую оценку дисперсии** $s^2 = \\frac{N}{N-1} D_в$.\n",
    "Статистические оценки **СКО** вычисляются как корень квадратный из соответствующих оценок дисперсии: $\\sigma_в = \\sqrt{D_в}; s = \\sqrt{s^2}$.\n",
    "Статистические оценки **ассиметрии** и **эксцесса** вычисляются по формулам: $\\bar{A_s} = \\frac{\\bar{m_3}}{s^3}; \\bar{E} = \\frac{\\bar{m_4}}{s^4} - 3$.\n",
    "\n",
    "Упрощенные методы расчета сводных характеристик выборки основаны на замене первоначальных вариант условными.\n",
    "**Условными называют варианты**, определяемые равенством $u_i = \\frac{x_i - C}{h}$, где $C$ — ложный нуль (новое начало отсчета), $h$ — шаг, т. е. разность между любыми двумя соседними первоначальными вариантами (новая единица масштаба). В результате все условные варианты оказываются целыми числами.\n",
    "В качестве ложного нуля можно принять любую варианту. Максимальная простота вычислений достигается, если выбрать в качестве ложного нуля варианту, которая расположена примерно в середине вариационного ряда (часто такая варианта имеет наибольшую частоту).\n",
    "Для вычисления сводных характеристик выборки удобно пользоваться эмпирическими моментами, определения которых аналогичны определениям соответствующих теоретических моментов. В отличие от теоретических эмпирические моменты вычисляют по данным наблюдений.\n",
    "**Условный эмпирический момент** определяется: $M_k^* = \\frac{\\sum_{i=1}^m {n_i u_i^k}}{N}$\n",
    "Для того чтобы найти выборочную среднюю, достаточно вычислить условный момент первого порядка, умножить его на $h$ и к результату прибавить ложный нуль.\n",
    "Легко найти **центральные моменты** через условные:\n",
    "$\\mu_2^* = (M_2^* - M_1^{*2}) \\cdot h^2$\n",
    "$\\mu_3^* = (M_3^* - 3 M_2^* M_1^* + 2 M_1^{*3}) \\cdot h^3$\n",
    "$\\mu_4^* = (M_4^* - 4 M_3^* M_1^* + 6 M_2^* M_1^{*2} -3 M_1^{*4}) \\cdot h^4$"
   ]
  },
  {
   "cell_type": "markdown",
   "metadata": {},
   "source": [
    "## Постановка задачи\n",
    "\n",
    "Для заданных выборочных данных вычислить с использованием метода моментов и условных вариант точечные статистические оценки математического ожидания, дисперсии, среднеквадратичного отклонения, асимметрии и эксцесса исследуемой случайной величины. Полученные результаты содержательно проинтерпретировать.\n",
    "### Порядок выполнения работы\n",
    "1. Для интервального ряда, полученного в лабораторной работе №1 найти середины интервалов, а также накопленные частоты. Результаты занести в таблицу.\n",
    "2. Для полученных вариант вычислить условные варианты. Результаты занести в таблицу.\n",
    "3. Вычислить условные эмпирические моменты $M_i^*$ через условные варианты. С помощью условных эмпирических моментов вычислить центральные эмпирические моменты $\\mu_i^*$. Полученные результаты занести в таблицу.\n",
    "4. Вычислить выборочные среднее и дисперсию с помощью стандартной формулы и с помощью условных вариант. Убедиться, что результаты совпадают.\n",
    "5. Найти статистическую оценку коэффициентов асимметрии и эксцесса. Сделать выводы.\n",
    "6. Дополнительное необязательное задание: для интервального ряда вычислить моду и медиану заданного распределения. Сделать выводы."
   ]
  },
  {
   "cell_type": "markdown",
   "metadata": {},
   "source": [
    "## Выполнение работы\n",
    "\n",
    "### Нахождение середины интервалов и накопленных частот для интервальных рядов\n",
    "Для интервальных рядов, полученных в лабораторной работе №1 найдем середины интервалов и накопленные частоты."
   ]
  },
  {
   "cell_type": "code",
   "execution_count": 68,
   "metadata": {},
   "outputs": [],
   "source": [
    "import pandas as pd\n",
    "import numpy as np\n",
    "import math\n",
    "import warnings\n",
    "warnings.filterwarnings('ignore')\n",
    "\n",
    "data = pd.read_csv('forestfires_105.csv', usecols=['DMC', 'temp'], sep=',')\n",
    "\n",
    "data_DMC = data.loc[:,['DMC']]\n",
    "ranked_DMC = data_DMC.sort_values(by='DMC')\n",
    "k = 1 + math.floor(3.322 * math.log10(ranked_DMC.size))\n",
    "h_DMC = (ranked_DMC['DMC'].max() - ranked_DMC['DMC'].min()) / k\n",
    "points = np.concatenate((np.arange(ranked_DMC['DMC'].min(), ranked_DMC['DMC'].max(), h_DMC), [ranked_DMC['DMC'].max()]))\n",
    "interval_DMC = ranked_DMC.groupby(pd.cut(ranked_DMC['DMC'], points)).size().reset_index(name='frequency')\n",
    "interval_DMC['frequency'][0] += 1\n",
    "\n",
    "data_temp = data.loc[:,['temp']]\n",
    "ranked_temp = data_temp.sort_values(by='temp')\n",
    "k = 1 + math.floor(3.322 * math.log10(ranked_temp.size))\n",
    "h_temp = (ranked_temp['temp'].max() - ranked_temp['temp'].min()) / k\n",
    "points = np.concatenate((np.arange(ranked_temp['temp'].min(), ranked_temp['temp'].max(), h_temp), [ranked_temp['temp'].max()]))\n",
    "interval_temp = ranked_temp.groupby(pd.cut(ranked_temp['temp'], points)).size().reset_index(name='frequency')\n",
    "interval_temp['frequency'][0] += 1"
   ]
  },
  {
   "cell_type": "markdown",
   "source": [
    "Первый признак:"
   ],
   "metadata": {
    "collapsed": false
   }
  },
  {
   "cell_type": "code",
   "execution_count": 69,
   "outputs": [
    {
     "data": {
      "text/plain": "                  DMC       x_i  n_i  n_cum\n0       (2.4, 43.486]   22.9430   17     17\n1    (43.486, 84.571]   64.0285   18     35\n2   (84.571, 125.657]  105.1140   27     62\n3  (125.657, 166.743]  146.2000   27     89\n4  (166.743, 207.829]  187.2860    8     97\n5  (207.829, 248.914]  228.3715    5    102\n6    (248.914, 290.0]  269.4570    3    105",
      "text/html": "<div>\n<style scoped>\n    .dataframe tbody tr th:only-of-type {\n        vertical-align: middle;\n    }\n\n    .dataframe tbody tr th {\n        vertical-align: top;\n    }\n\n    .dataframe thead th {\n        text-align: right;\n    }\n</style>\n<table border=\"1\" class=\"dataframe\">\n  <thead>\n    <tr style=\"text-align: right;\">\n      <th></th>\n      <th>DMC</th>\n      <th>x_i</th>\n      <th>n_i</th>\n      <th>n_cum</th>\n    </tr>\n  </thead>\n  <tbody>\n    <tr>\n      <th>0</th>\n      <td>(2.4, 43.486]</td>\n      <td>22.9430</td>\n      <td>17</td>\n      <td>17</td>\n    </tr>\n    <tr>\n      <th>1</th>\n      <td>(43.486, 84.571]</td>\n      <td>64.0285</td>\n      <td>18</td>\n      <td>35</td>\n    </tr>\n    <tr>\n      <th>2</th>\n      <td>(84.571, 125.657]</td>\n      <td>105.1140</td>\n      <td>27</td>\n      <td>62</td>\n    </tr>\n    <tr>\n      <th>3</th>\n      <td>(125.657, 166.743]</td>\n      <td>146.2000</td>\n      <td>27</td>\n      <td>89</td>\n    </tr>\n    <tr>\n      <th>4</th>\n      <td>(166.743, 207.829]</td>\n      <td>187.2860</td>\n      <td>8</td>\n      <td>97</td>\n    </tr>\n    <tr>\n      <th>5</th>\n      <td>(207.829, 248.914]</td>\n      <td>228.3715</td>\n      <td>5</td>\n      <td>102</td>\n    </tr>\n    <tr>\n      <th>6</th>\n      <td>(248.914, 290.0]</td>\n      <td>269.4570</td>\n      <td>3</td>\n      <td>105</td>\n    </tr>\n  </tbody>\n</table>\n</div>"
     },
     "execution_count": 69,
     "metadata": {},
     "output_type": "execute_result"
    }
   ],
   "source": [
    "table_DMC = pd.DataFrame()\n",
    "table_DMC['DMC'] = interval_DMC['DMC']\n",
    "table_DMC['x_i'] = interval_DMC['DMC'].apply(lambda x: x.mid).astype('float')\n",
    "table_DMC['n_i'] = interval_DMC['frequency']\n",
    "table_DMC['n_cum'] = np.cumsum(interval_DMC['frequency'])\n",
    "table_DMC"
   ],
   "metadata": {
    "collapsed": false,
    "pycharm": {
     "name": "#%%\n"
    }
   }
  },
  {
   "cell_type": "markdown",
   "source": [
    "Второй признак:"
   ],
   "metadata": {
    "collapsed": false
   }
  },
  {
   "cell_type": "code",
   "execution_count": 70,
   "outputs": [
    {
     "data": {
      "text/plain": "               temp      x_i  n_i  n_cum\n0      (4.6, 8.571]   6.5855    5      5\n1   (8.571, 12.543]  10.5570    8     13\n2  (12.543, 16.514]  14.5285   13     26\n3  (16.514, 20.486]  18.5000   38     64\n4  (20.486, 24.457]  22.4715   25     89\n5  (24.457, 28.429]  26.4430   11    100\n6    (28.429, 32.4]  30.4145    5    105",
      "text/html": "<div>\n<style scoped>\n    .dataframe tbody tr th:only-of-type {\n        vertical-align: middle;\n    }\n\n    .dataframe tbody tr th {\n        vertical-align: top;\n    }\n\n    .dataframe thead th {\n        text-align: right;\n    }\n</style>\n<table border=\"1\" class=\"dataframe\">\n  <thead>\n    <tr style=\"text-align: right;\">\n      <th></th>\n      <th>temp</th>\n      <th>x_i</th>\n      <th>n_i</th>\n      <th>n_cum</th>\n    </tr>\n  </thead>\n  <tbody>\n    <tr>\n      <th>0</th>\n      <td>(4.6, 8.571]</td>\n      <td>6.5855</td>\n      <td>5</td>\n      <td>5</td>\n    </tr>\n    <tr>\n      <th>1</th>\n      <td>(8.571, 12.543]</td>\n      <td>10.5570</td>\n      <td>8</td>\n      <td>13</td>\n    </tr>\n    <tr>\n      <th>2</th>\n      <td>(12.543, 16.514]</td>\n      <td>14.5285</td>\n      <td>13</td>\n      <td>26</td>\n    </tr>\n    <tr>\n      <th>3</th>\n      <td>(16.514, 20.486]</td>\n      <td>18.5000</td>\n      <td>38</td>\n      <td>64</td>\n    </tr>\n    <tr>\n      <th>4</th>\n      <td>(20.486, 24.457]</td>\n      <td>22.4715</td>\n      <td>25</td>\n      <td>89</td>\n    </tr>\n    <tr>\n      <th>5</th>\n      <td>(24.457, 28.429]</td>\n      <td>26.4430</td>\n      <td>11</td>\n      <td>100</td>\n    </tr>\n    <tr>\n      <th>6</th>\n      <td>(28.429, 32.4]</td>\n      <td>30.4145</td>\n      <td>5</td>\n      <td>105</td>\n    </tr>\n  </tbody>\n</table>\n</div>"
     },
     "execution_count": 70,
     "metadata": {},
     "output_type": "execute_result"
    }
   ],
   "source": [
    "table_temp = pd.DataFrame()\n",
    "table_temp['temp'] = interval_temp['temp']\n",
    "table_temp['x_i'] = interval_temp['temp'].apply(lambda x: x.mid).astype('float')\n",
    "table_temp['n_i'] = interval_temp['frequency']\n",
    "table_temp['n_cum'] = np.cumsum(interval_temp['frequency'])\n",
    "table_temp"
   ],
   "metadata": {
    "collapsed": false,
    "pycharm": {
     "name": "#%%\n"
    }
   }
  },
  {
   "cell_type": "markdown",
   "source": [
    "### Вычисление условных вариант\n",
    "Для полученных вариант вычислим условные варианты по формуле $u_i = \\frac{x_i - C}{h}$, в качестве ложного нуля примем варианту, расположенную в середине интервального ряда, т.е. 3 элемент ряда.\n",
    "\n",
    "Первый признак:"
   ],
   "metadata": {
    "collapsed": false
   }
  },
  {
   "cell_type": "code",
   "execution_count": 71,
   "outputs": [
    {
     "data": {
      "text/plain": "                  DMC       x_i  n_i  n_cum       u_i\n0       (2.4, 43.486]   22.9430   17     17 -2.999997\n1    (43.486, 84.571]   64.0285   18     35 -2.000002\n2   (84.571, 125.657]  105.1140   27     62 -1.000007\n3  (125.657, 166.743]  146.2000   27     89  0.000000\n4  (166.743, 207.829]  187.2860    8     97  1.000007\n5  (207.829, 248.914]  228.3715    5    102  2.000002\n6    (248.914, 290.0]  269.4570    3    105  2.999997",
      "text/html": "<div>\n<style scoped>\n    .dataframe tbody tr th:only-of-type {\n        vertical-align: middle;\n    }\n\n    .dataframe tbody tr th {\n        vertical-align: top;\n    }\n\n    .dataframe thead th {\n        text-align: right;\n    }\n</style>\n<table border=\"1\" class=\"dataframe\">\n  <thead>\n    <tr style=\"text-align: right;\">\n      <th></th>\n      <th>DMC</th>\n      <th>x_i</th>\n      <th>n_i</th>\n      <th>n_cum</th>\n      <th>u_i</th>\n    </tr>\n  </thead>\n  <tbody>\n    <tr>\n      <th>0</th>\n      <td>(2.4, 43.486]</td>\n      <td>22.9430</td>\n      <td>17</td>\n      <td>17</td>\n      <td>-2.999997</td>\n    </tr>\n    <tr>\n      <th>1</th>\n      <td>(43.486, 84.571]</td>\n      <td>64.0285</td>\n      <td>18</td>\n      <td>35</td>\n      <td>-2.000002</td>\n    </tr>\n    <tr>\n      <th>2</th>\n      <td>(84.571, 125.657]</td>\n      <td>105.1140</td>\n      <td>27</td>\n      <td>62</td>\n      <td>-1.000007</td>\n    </tr>\n    <tr>\n      <th>3</th>\n      <td>(125.657, 166.743]</td>\n      <td>146.2000</td>\n      <td>27</td>\n      <td>89</td>\n      <td>0.000000</td>\n    </tr>\n    <tr>\n      <th>4</th>\n      <td>(166.743, 207.829]</td>\n      <td>187.2860</td>\n      <td>8</td>\n      <td>97</td>\n      <td>1.000007</td>\n    </tr>\n    <tr>\n      <th>5</th>\n      <td>(207.829, 248.914]</td>\n      <td>228.3715</td>\n      <td>5</td>\n      <td>102</td>\n      <td>2.000002</td>\n    </tr>\n    <tr>\n      <th>6</th>\n      <td>(248.914, 290.0]</td>\n      <td>269.4570</td>\n      <td>3</td>\n      <td>105</td>\n      <td>2.999997</td>\n    </tr>\n  </tbody>\n</table>\n</div>"
     },
     "execution_count": 71,
     "metadata": {},
     "output_type": "execute_result"
    }
   ],
   "source": [
    "center_DMC = table_DMC['x_i'][math.floor(k / 2)]\n",
    "table_DMC['u_i'] = table_DMC['x_i'].apply(lambda x: (x - center_DMC) / h_DMC)\n",
    "table_DMC"
   ],
   "metadata": {
    "collapsed": false,
    "pycharm": {
     "name": "#%%\n"
    }
   }
  },
  {
   "cell_type": "markdown",
   "source": [
    "Второй признак:"
   ],
   "metadata": {
    "collapsed": false
   }
  },
  {
   "cell_type": "code",
   "execution_count": 73,
   "outputs": [
    {
     "data": {
      "text/plain": "               temp      x_i  n_i  n_cum       u_i\n0      (4.6, 8.571]   6.5855    5      5 -3.000054\n1   (8.571, 12.543]  10.5570    8     13 -2.000036\n2  (12.543, 16.514]  14.5285   13     26 -1.000018\n3  (16.514, 20.486]  18.5000   38     64  0.000000\n4  (20.486, 24.457]  22.4715   25     89  1.000018\n5  (24.457, 28.429]  26.4430   11    100  2.000036\n6    (28.429, 32.4]  30.4145    5    105  3.000054",
      "text/html": "<div>\n<style scoped>\n    .dataframe tbody tr th:only-of-type {\n        vertical-align: middle;\n    }\n\n    .dataframe tbody tr th {\n        vertical-align: top;\n    }\n\n    .dataframe thead th {\n        text-align: right;\n    }\n</style>\n<table border=\"1\" class=\"dataframe\">\n  <thead>\n    <tr style=\"text-align: right;\">\n      <th></th>\n      <th>temp</th>\n      <th>x_i</th>\n      <th>n_i</th>\n      <th>n_cum</th>\n      <th>u_i</th>\n    </tr>\n  </thead>\n  <tbody>\n    <tr>\n      <th>0</th>\n      <td>(4.6, 8.571]</td>\n      <td>6.5855</td>\n      <td>5</td>\n      <td>5</td>\n      <td>-3.000054</td>\n    </tr>\n    <tr>\n      <th>1</th>\n      <td>(8.571, 12.543]</td>\n      <td>10.5570</td>\n      <td>8</td>\n      <td>13</td>\n      <td>-2.000036</td>\n    </tr>\n    <tr>\n      <th>2</th>\n      <td>(12.543, 16.514]</td>\n      <td>14.5285</td>\n      <td>13</td>\n      <td>26</td>\n      <td>-1.000018</td>\n    </tr>\n    <tr>\n      <th>3</th>\n      <td>(16.514, 20.486]</td>\n      <td>18.5000</td>\n      <td>38</td>\n      <td>64</td>\n      <td>0.000000</td>\n    </tr>\n    <tr>\n      <th>4</th>\n      <td>(20.486, 24.457]</td>\n      <td>22.4715</td>\n      <td>25</td>\n      <td>89</td>\n      <td>1.000018</td>\n    </tr>\n    <tr>\n      <th>5</th>\n      <td>(24.457, 28.429]</td>\n      <td>26.4430</td>\n      <td>11</td>\n      <td>100</td>\n      <td>2.000036</td>\n    </tr>\n    <tr>\n      <th>6</th>\n      <td>(28.429, 32.4]</td>\n      <td>30.4145</td>\n      <td>5</td>\n      <td>105</td>\n      <td>3.000054</td>\n    </tr>\n  </tbody>\n</table>\n</div>"
     },
     "execution_count": 73,
     "metadata": {},
     "output_type": "execute_result"
    }
   ],
   "source": [
    "center_temp = table_temp['x_i'][math.floor(k / 2)]\n",
    "table_temp['u_i'] = table_temp['x_i'].apply(lambda x: (x - center_temp) / h_temp)\n",
    "table_temp"
   ],
   "metadata": {
    "collapsed": false,
    "pycharm": {
     "name": "#%%\n"
    }
   }
  },
  {
   "cell_type": "markdown",
   "source": [
    "### Вычисление условных эмпирических моментов и центральных эмпирических моментов\n",
    "Вычислим условные эмпирические моменты $M_k^*$ через условные варианты по формуле $M_k^* = \\frac{\\sum_{i=1}^m {n_i u_i^k}}{N}$, где $k = 1, 2, 3, 4$ - порядок.\n",
    "Вычислим центральные эмпирические моменты $\\mu_k^*$ через условные эмпирические моменты по формуле бинома Ньютона.\n",
    "$\\mu_2^* = (M_2^* - M_1^{*2}) \\cdot h^2$\n",
    "$\\mu_3^* = (M_3^* - 3 M_2^* M_1^* + 2 M_1^{*3}) \\cdot h^3$\n",
    "$\\mu_4^* = (M_4^* - 4 M_3^* M_1^* + 6 M_2^* M_1^{*2} -3 M_1^{*4}) \\cdot h^4$\n",
    "\n",
    "Первый признак:"
   ],
   "metadata": {
    "collapsed": false
   }
  },
  {
   "cell_type": "code",
   "execution_count": 78,
   "outputs": [
    {
     "data": {
      "text/plain": "     k        M_k          mu_k\n0  1.0  -0.828572  0.000000e+00\n1  2.0   2.923812  3.776608e+03\n2  3.0  -4.771422  9.422897e+04\n3  4.0  19.266617  4.012762e+07",
      "text/html": "<div>\n<style scoped>\n    .dataframe tbody tr th:only-of-type {\n        vertical-align: middle;\n    }\n\n    .dataframe tbody tr th {\n        vertical-align: top;\n    }\n\n    .dataframe thead th {\n        text-align: right;\n    }\n</style>\n<table border=\"1\" class=\"dataframe\">\n  <thead>\n    <tr style=\"text-align: right;\">\n      <th></th>\n      <th>k</th>\n      <th>M_k</th>\n      <th>mu_k</th>\n    </tr>\n  </thead>\n  <tbody>\n    <tr>\n      <th>0</th>\n      <td>1.0</td>\n      <td>-0.828572</td>\n      <td>0.000000e+00</td>\n    </tr>\n    <tr>\n      <th>1</th>\n      <td>2.0</td>\n      <td>2.923812</td>\n      <td>3.776608e+03</td>\n    </tr>\n    <tr>\n      <th>2</th>\n      <td>3.0</td>\n      <td>-4.771422</td>\n      <td>9.422897e+04</td>\n    </tr>\n    <tr>\n      <th>3</th>\n      <td>4.0</td>\n      <td>19.266617</td>\n      <td>4.012762e+07</td>\n    </tr>\n  </tbody>\n</table>\n</div>"
     },
     "execution_count": 78,
     "metadata": {},
     "output_type": "execute_result"
    }
   ],
   "source": [
    "moments_DMC = pd.DataFrame(columns=['k', 'M_k'])\n",
    "for k in range(4):\n",
    "    moment = table_DMC.apply(lambda i: i['n_i'] * (i['u_i'] ** (k+1)), axis=1).sum() / 105\n",
    "    moments_DMC.loc[k] = [k + 1, moment]\n",
    "moments_DMC['mu_k'] = pd.Series([0,\n",
    "    (moments_DMC['M_k'][1] - (moments_DMC['M_k'][0] ** 2)) * (h_DMC ** 2),\n",
    "    (moments_DMC['M_k'][2] - 3 * moments_DMC['M_k'][1] * moments_DMC['M_k'][0] + 2 * (moments_DMC['M_k'][0] ** 3)) * (h_DMC ** 3),\n",
    "    (moments_DMC['M_k'][3] - 4 * moments_DMC['M_k'][2] * moments_DMC['M_k'][0] + 6 * moments_DMC['M_k'][1] * (moments_DMC['M_k'][0] ** 2) - 3 * (moments_DMC['M_k'][0] ** 4)) * (h_DMC ** 4)]).astype('float')\n",
    "moments_DMC"
   ],
   "metadata": {
    "collapsed": false,
    "pycharm": {
     "name": "#%%\n"
    }
   }
  },
  {
   "cell_type": "markdown",
   "source": [
    "Второй признак:"
   ],
   "metadata": {
    "collapsed": false
   }
  },
  {
   "cell_type": "code",
   "execution_count": 81,
   "outputs": [
    {
     "data": {
      "text/plain": "     k        M_k         mu_k\n0  1.0   0.171432     0.000000\n1  2.0   1.942927    30.180793\n2  3.0   0.342876   -40.482260\n3  4.0  10.972218  2755.582907",
      "text/html": "<div>\n<style scoped>\n    .dataframe tbody tr th:only-of-type {\n        vertical-align: middle;\n    }\n\n    .dataframe tbody tr th {\n        vertical-align: top;\n    }\n\n    .dataframe thead th {\n        text-align: right;\n    }\n</style>\n<table border=\"1\" class=\"dataframe\">\n  <thead>\n    <tr style=\"text-align: right;\">\n      <th></th>\n      <th>k</th>\n      <th>M_k</th>\n      <th>mu_k</th>\n    </tr>\n  </thead>\n  <tbody>\n    <tr>\n      <th>0</th>\n      <td>1.0</td>\n      <td>0.171432</td>\n      <td>0.000000</td>\n    </tr>\n    <tr>\n      <th>1</th>\n      <td>2.0</td>\n      <td>1.942927</td>\n      <td>30.180793</td>\n    </tr>\n    <tr>\n      <th>2</th>\n      <td>3.0</td>\n      <td>0.342876</td>\n      <td>-40.482260</td>\n    </tr>\n    <tr>\n      <th>3</th>\n      <td>4.0</td>\n      <td>10.972218</td>\n      <td>2755.582907</td>\n    </tr>\n  </tbody>\n</table>\n</div>"
     },
     "execution_count": 81,
     "metadata": {},
     "output_type": "execute_result"
    }
   ],
   "source": [
    "moments_temp = pd.DataFrame(columns=['k', 'M_k'])\n",
    "for k in range(4):\n",
    "    moment = table_temp.apply(lambda i: i['n_i'] * (i['u_i'] ** (k+1)), axis=1).sum() / 105\n",
    "    moments_temp.loc[k] = [k + 1, moment]\n",
    "moments_temp['mu_k'] = pd.Series([0,\n",
    "    (moments_temp['M_k'][1] - (moments_temp['M_k'][0] ** 2)) * (h_temp ** 2),\n",
    "    (moments_temp['M_k'][2] - 3 * moments_temp['M_k'][1] * moments_temp['M_k'][0] + 2 * (moments_temp['M_k'][0] ** 3)) * (h_temp ** 3),\n",
    "    (moments_temp['M_k'][3] - 4 * moments_temp['M_k'][2] * moments_temp['M_k'][0] + 6 * moments_temp['M_k'][1] * (moments_temp['M_k'][0] ** 2) - 3 * (moments_temp['M_k'][0] ** 4)) * (h_temp ** 4)]).astype('float')\n",
    "moments_temp"
   ],
   "metadata": {
    "collapsed": false,
    "pycharm": {
     "name": "#%%\n"
    }
   }
  },
  {
   "cell_type": "markdown",
   "source": [
    "### Вычисление выборочного среднего и дисперсии\n",
    "Используя стандартные формулы и условные варианты, вычислим значения выборочного среднего и дисперсию.\n",
    "Выборочное среднее $\\bar{x_в} = \\bar{M_1} = \\frac{1}{N} \\sum{n_j x_j}$.\n",
    "Выборочная дисперсия $D_в = \\bar{m_2} = \\frac{1}{N} \\sum{n_j (x_j - \\bar{x_в})^2}$, исправленная оценка $s^2 = \\frac{N}{N -1} D_в$ (представлена в таблице).\n",
    "\n",
    "Первый признак:"
   ],
   "metadata": {
    "collapsed": false
   }
  },
  {
   "cell_type": "code",
   "execution_count": 82,
   "outputs": [
    {
     "data": {
      "text/plain": "   способы вычисления         x_в          D_в\n0  статистический ряд  108.880952  3938.281749\n1    интервальный ряд  112.157510  3812.921565\n2   условные варианты  112.157510  3812.921565",
      "text/html": "<div>\n<style scoped>\n    .dataframe tbody tr th:only-of-type {\n        vertical-align: middle;\n    }\n\n    .dataframe tbody tr th {\n        vertical-align: top;\n    }\n\n    .dataframe thead th {\n        text-align: right;\n    }\n</style>\n<table border=\"1\" class=\"dataframe\">\n  <thead>\n    <tr style=\"text-align: right;\">\n      <th></th>\n      <th>способы вычисления</th>\n      <th>x_в</th>\n      <th>D_в</th>\n    </tr>\n  </thead>\n  <tbody>\n    <tr>\n      <th>0</th>\n      <td>статистический ряд</td>\n      <td>108.880952</td>\n      <td>3938.281749</td>\n    </tr>\n    <tr>\n      <th>1</th>\n      <td>интервальный ряд</td>\n      <td>112.157510</td>\n      <td>3812.921565</td>\n    </tr>\n    <tr>\n      <th>2</th>\n      <td>условные варианты</td>\n      <td>112.157510</td>\n      <td>3812.921565</td>\n    </tr>\n  </tbody>\n</table>\n</div>"
     },
     "execution_count": 82,
     "metadata": {},
     "output_type": "execute_result"
    }
   ],
   "source": [
    "x_DMC = table_DMC.apply(lambda i: i['n_i'] * (i['x_i']), axis=1).sum() / 105\n",
    "D_DMC = table_DMC.apply(lambda i: (i['x_i'] - x_DMC) ** 2 * i['n_i'], axis=1).sum() / 104\n",
    "sample_DMC = pd.DataFrame(columns=['способы вычисления', 'x_в', 'D_в'])\n",
    "sample_DMC.loc[0] = ['статистический ряд', data['DMC'].mean(), data['DMC'].std() ** 2]\n",
    "sample_DMC.loc[1] = ['интервальный ряд', x_DMC, D_DMC]\n",
    "sample_DMC.loc[2] = ['условные варианты', moments_DMC['M_k'][0] * h_DMC + center_DMC, moments_DMC['mu_k'][1] * 105 / 104]\n",
    "sample_DMC"
   ],
   "metadata": {
    "collapsed": false,
    "pycharm": {
     "name": "#%%\n"
    }
   }
  },
  {
   "cell_type": "markdown",
   "source": [],
   "metadata": {
    "collapsed": false
   }
  },
  {
   "cell_type": "code",
   "execution_count": 85,
   "outputs": [
    {
     "data": {
      "text/plain": "   способы вычисления        x_в        D_в\n0  статистический ряд  19.201905  32.959804\n1    интервальный ряд  19.180829  30.470993\n2   условные варианты  19.180829  30.470993",
      "text/html": "<div>\n<style scoped>\n    .dataframe tbody tr th:only-of-type {\n        vertical-align: middle;\n    }\n\n    .dataframe tbody tr th {\n        vertical-align: top;\n    }\n\n    .dataframe thead th {\n        text-align: right;\n    }\n</style>\n<table border=\"1\" class=\"dataframe\">\n  <thead>\n    <tr style=\"text-align: right;\">\n      <th></th>\n      <th>способы вычисления</th>\n      <th>x_в</th>\n      <th>D_в</th>\n    </tr>\n  </thead>\n  <tbody>\n    <tr>\n      <th>0</th>\n      <td>статистический ряд</td>\n      <td>19.201905</td>\n      <td>32.959804</td>\n    </tr>\n    <tr>\n      <th>1</th>\n      <td>интервальный ряд</td>\n      <td>19.180829</td>\n      <td>30.470993</td>\n    </tr>\n    <tr>\n      <th>2</th>\n      <td>условные варианты</td>\n      <td>19.180829</td>\n      <td>30.470993</td>\n    </tr>\n  </tbody>\n</table>\n</div>"
     },
     "execution_count": 85,
     "metadata": {},
     "output_type": "execute_result"
    }
   ],
   "source": [
    "x_temp = table_temp.apply(lambda i: i['n_i'] * (i['x_i']), axis=1).sum() / 105\n",
    "D_temp = table_temp.apply(lambda i: (i['x_i'] - x_temp) ** 2 * i['n_i'], axis=1).sum() / 104\n",
    "sample_temp = pd.DataFrame(columns=['способы вычисления', 'x_в', 'D_в'])\n",
    "sample_temp.loc[0] = ['статистический ряд', data['temp'].mean(), data['temp'].std() ** 2]\n",
    "sample_temp.loc[1] = ['интервальный ряд', x_temp, D_temp]\n",
    "sample_temp.loc[2] = ['условные варианты', moments_temp['M_k'][0] * h_temp + center_temp, moments_temp['mu_k'][1] * 105 / 104]\n",
    "sample_temp"
   ],
   "metadata": {
    "collapsed": false,
    "pycharm": {
     "name": "#%%\n"
    }
   }
  },
  {
   "cell_type": "markdown",
   "source": [
    "По полученным значениям можно сделать вывод, что выборочное среднее и дисперсия вычисленные с использованием условных вариант совпадают с истинными значениями, но несущественно отличаются от значений выборочного среднего и дисперсии исходного статистического ряда, это отличие меньше чем у первого признака."
   ],
   "metadata": {
    "collapsed": false
   }
  },
  {
   "cell_type": "markdown",
   "source": [
    "### Статистическая оценка коэффициентов асимметрии и эксцесса\n",
    "Найдем статистическую оценку коэффициентов асимметрии и эксцесса используя формулы: $\\bar{A_s} = \\frac{\\bar{m_3}}{s^3}; \\bar{E} = \\frac{\\bar{m_4}}{s^4} - 3$."
   ],
   "metadata": {
    "collapsed": false
   }
  },
  {
   "cell_type": "code",
   "execution_count": 87,
   "outputs": [
    {
     "data": {
      "text/plain": "  признаки         x_в          D_в       A_s         E\n0      DMC  112.157510  3812.921565  0.406005 -0.186548\n1     temp   19.180829    30.470993 -0.244157  0.025187",
      "text/html": "<div>\n<style scoped>\n    .dataframe tbody tr th:only-of-type {\n        vertical-align: middle;\n    }\n\n    .dataframe tbody tr th {\n        vertical-align: top;\n    }\n\n    .dataframe thead th {\n        text-align: right;\n    }\n</style>\n<table border=\"1\" class=\"dataframe\">\n  <thead>\n    <tr style=\"text-align: right;\">\n      <th></th>\n      <th>признаки</th>\n      <th>x_в</th>\n      <th>D_в</th>\n      <th>A_s</th>\n      <th>E</th>\n    </tr>\n  </thead>\n  <tbody>\n    <tr>\n      <th>0</th>\n      <td>DMC</td>\n      <td>112.157510</td>\n      <td>3812.921565</td>\n      <td>0.406005</td>\n      <td>-0.186548</td>\n    </tr>\n    <tr>\n      <th>1</th>\n      <td>temp</td>\n      <td>19.180829</td>\n      <td>30.470993</td>\n      <td>-0.244157</td>\n      <td>0.025187</td>\n    </tr>\n  </tbody>\n</table>\n</div>"
     },
     "execution_count": 87,
     "metadata": {},
     "output_type": "execute_result"
    }
   ],
   "source": [
    "coefficients = pd.DataFrame(columns=['признаки', 'x_в', 'D_в', 'A_s', 'E'])\n",
    "coefficients.loc[0] = ['DMC', sample_DMC['x_в'][2], sample_DMC['D_в'][2], (moments_DMC['mu_k'][2]) / (math.sqrt(moments_DMC['mu_k'][1]) ** 3), (moments_DMC['mu_k'][3]) / (moments_DMC['mu_k'][1] ** 2) - 3]\n",
    "coefficients.loc[1] = ['temp', sample_temp['x_в'][2], sample_temp['D_в'][2], (moments_temp['mu_k'][2]) / (math.sqrt(moments_temp['mu_k'][1]) ** 3), (moments_temp['mu_k'][3]) / (moments_temp['mu_k'][1] ** 2) - 3]\n",
    "coefficients"
   ],
   "metadata": {
    "collapsed": false,
    "pycharm": {
     "name": "#%%\n"
    }
   }
  },
  {
   "cell_type": "markdown",
   "source": [
    "По полученным оценкам коэффициентов асимметрии и эксцесса можно сделать вывод, что у первого признака присутствует левосторонняя асимметрия и пик распределения ниже чем у нормального распределения, второй признак имеет менее выраженную правостороннюю асимметрию и пик немного выше нормального распределения. Предположения о распределении признаков, сделанные в лабораторной работе №1 по характеру графиков, подтвердились."
   ],
   "metadata": {
    "collapsed": false
   }
  },
  {
   "cell_type": "markdown",
   "source": [
    "### Вычисление моды и медианы\n",
    "Для интервального ряда вычислим моду и медиану заданного распределения по формулам:\n",
    "$M_0 = x_0 + h \\frac{n_{M_0} - n_{M_0 - 1}}{(n_{M_0} - n_{M_0 - 1}) + (n_{M_0} - n_{M_0 + 1})}$\n",
    "$M_e = x_0 + h \\frac{0.5 \\cdot N - S_{M_0 - 1}}{n_{M_e}}$, где $S_{M_0 - 1}$ - кумулятивная частота интервала, предшествующего медианному\n",
    "\n",
    "Для первого признака модальным интервалом является 2, т.к. в этом интервале абсолютная частота наибольшая, для второго признака - 3 интервал.\n",
    "\n",
    "Медианным интервалом для первого признака является 2, т.к. на этом интервале накопленная частота достигает значения в половину объема выборки, для второго признака - 3 интервал.\n"
   ],
   "metadata": {
    "collapsed": false
   }
  },
  {
   "cell_type": "code",
   "execution_count": 95,
   "outputs": [
    {
     "data": {
      "text/plain": "  признаки         M_0         M_e\n0      DMC  125.656714  111.200630\n1     temp   18.334238   19.283549",
      "text/html": "<div>\n<style scoped>\n    .dataframe tbody tr th:only-of-type {\n        vertical-align: middle;\n    }\n\n    .dataframe tbody tr th {\n        vertical-align: top;\n    }\n\n    .dataframe thead th {\n        text-align: right;\n    }\n</style>\n<table border=\"1\" class=\"dataframe\">\n  <thead>\n    <tr style=\"text-align: right;\">\n      <th></th>\n      <th>признаки</th>\n      <th>M_0</th>\n      <th>M_e</th>\n    </tr>\n  </thead>\n  <tbody>\n    <tr>\n      <th>0</th>\n      <td>DMC</td>\n      <td>125.656714</td>\n      <td>111.200630</td>\n    </tr>\n    <tr>\n      <th>1</th>\n      <td>temp</td>\n      <td>18.334238</td>\n      <td>19.283549</td>\n    </tr>\n  </tbody>\n</table>\n</div>"
     },
     "execution_count": 95,
     "metadata": {},
     "output_type": "execute_result"
    }
   ],
   "source": [
    "table_DMC['x_0'] = interval_DMC['DMC'].apply(lambda x: x.left).astype('float')\n",
    "table_temp['x_0'] = interval_temp['temp'].apply(lambda x: x.left).astype('float')\n",
    "additional = pd.DataFrame(columns=['признаки', 'M_0', 'M_e'])\n",
    "M0 = table_DMC['x_0'][2] + h_DMC * (table_DMC['n_i'][2] - table_DMC['n_i'][1]) / ((table_DMC['n_i'][2] - table_DMC['n_i'][1]) + (table_DMC['n_i'][2] - table_DMC['n_i'][3]))\n",
    "\n",
    "Me = table_DMC['x_0'][2] + h_DMC * (105 * 0.5 - table_DMC['n_cum'][1]) / (table_DMC['n_i'][2])\n",
    "additional.loc[0] = ['DMC', M0, Me]\n",
    "\n",
    "M0 = table_temp['x_0'][3] + h_temp * (table_temp['n_i'][3] - table_DMC['n_i'][2]) / ((table_temp['n_i'][3] - table_DMC['n_i'][2]) + (table_temp['n_i'][3] - table_temp['n_i'][4]))\n",
    "\n",
    "Me = table_temp['x_0'][3] + h_temp * (105 * 0.5 - table_temp['n_cum'][2]) / (table_temp['n_i'][3])\n",
    "additional.loc[1] = ['temp', M0, Me]\n",
    "additional"
   ],
   "metadata": {
    "collapsed": false,
    "pycharm": {
     "name": "#%%\n"
    }
   }
  },
  {
   "cell_type": "markdown",
   "source": [
    "По полученным результатам можно сделать вывод, что первый признак более ассиметричен по сравнению со вторым, мода первого признака больше медианы,распределение смещено влево, у второго признака мода меньше медианы, распределение немного смещено вправо."
   ],
   "metadata": {
    "collapsed": false
   }
  },
  {
   "cell_type": "markdown",
   "metadata": {
    "pycharm": {
     "name": "#%% md\n"
    }
   },
   "source": [
    "## Выводы\n",
    "\n",
    "В процессе выполнения лабораторной работы были изучены практические методы нахождения точечных статистических оценок параметров распределения, такие как метод моментов и условных вариант. Также были вычислены выборочные средние и дисперсии, статистические оценки коэффициентов асимметрии и эксцессов, моды и медианы для интервальных рядов. Сделаны выводы о характере распределения признаков: DMC ассиметричный смещенный влево, temp близкий к нормальному распределению с маловыраженной правосторонней ассиметрией."
   ]
  }
 ],
 "metadata": {
  "kernelspec": {
   "display_name": "Python 3",
   "language": "python",
   "name": "python3"
  },
  "language_info": {
   "codemirror_mode": {
    "name": "ipython",
    "version": 3
   },
   "file_extension": ".py",
   "mimetype": "text/x-python",
   "name": "python",
   "nbconvert_exporter": "python",
   "pygments_lexer": "ipython3",
   "version": "3.8.10"
  }
 },
 "nbformat": 4,
 "nbformat_minor": 4
}