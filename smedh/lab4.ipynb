{
 "cells": [
  {
   "cell_type": "markdown",
   "metadata": {},
   "source": [
    "# Лабораторная работа №4: Элементы корреляционного анализа. Проверка статистической гипотезы о равенстве коэффициента корреляции нулю\n",
    "\n",
    "Выполнили студентки гр. 8383 Ишанина Людмила и Сырцова Екатерина. Вариант №6."
   ]
  },
  {
   "cell_type": "markdown",
   "metadata": {},
   "source": [
    "## Цель работы\n",
    "\n",
    "Освоение основных понятий, связанных с корреляционной зависимостью между случайными величинами, статистическими гипотезами и проверкой их «справедливости»."
   ]
  },
  {
   "cell_type": "markdown",
   "metadata": {},
   "source": [
    "## Основные теоретические положения\n",
    "\n",
    "Рассмотрим систему двух случайных величин $\\{X, Y\\}$. Эти случайные величины **могут быть независимыми:** $f(x,y) = f_1(x) \\cdot f_2(y)$.\n",
    "В противном случае между ними может быть:\n",
    "**функциональная зависимость:** $y = g(x)$.\n",
    "**статистическая зависимость:** $\\varphi(x/y) = f(x,y) / f_2(y)$, $\\varphi(y/x) = f(x,y) / f_1(x)$.\n",
    "Одним из видов статистической зависимости является **корреляционная зависимость**, при которой изменение значения одной из случайных велечин приводит к изменению математического ожидания другой случайной величины.\n",
    "**Функции регрессии:** $M(X/y) = q_1(y), M(Y/x) = q_2(x)$.\n",
    "**Корреляционный момент:** $\\nu = M\\{[x - M(X)]\\cdot[y - M(Y)]\\}$.\n",
    "**Коэффициент корреляции:** $r_{xy} = \\frac{\\nu_{xy}}{\\sigma_x \\sigma_y}$.\n",
    "Для коэффициента корреляции справедливо соотношение $|r_{xy}| \\leq 1$.\n",
    "Случайные величины $X$ и $Y$ называют **коррелированными**, если их корреляционный момент или их коэффициент корреляции отличен от нуля, в противном случае эти величины **некоррелированы**.\n",
    "**Статистическая оценка коэффициента корреляции:** $\\bar{r}_{xy} = \\frac{\\sum_{i=1}^{K_y}\\sum_{j=1}^{K_x}n_{ij}y_ix_j - N\\bar{x}_в\\bar{y}_в}{NS_xS_y}$.\n",
    "**Вычисления выборочного коэффициента корреляции с использованием условных вариант:** $\\bar{r}_{xy} = \\frac{\\sum_{i=1}^{K_y}\\sum_{j=1}^{K_x}n_{ij}u_iv_j - N\\bar{u}\\bar{v}}{NS_uS_v}$.\n",
    "\n",
    "**Алгоритм нахождения доверительного интервала для коэффициента корреляции с помощью преобразования Фишера:**\n",
    "1. Преобразование Фишера для перехода к случайной величине $z$: $\\bar{z} = 0.5\\ln\\frac{1+\\bar{r}_{xy}}{1-\\bar{r}_{xy}} = 1.1513 \\lg\\frac{1+\\bar{r}_{xy}}{1-\\bar{r}_{xy}}$.\n",
    "2. Распределение $z$ при неограниченном возрастании объема выборки асимптотическинормальное со значением СКВО, равным: $\\bar{\\sigma}_z = \\frac{1}{\\sqrt{N-3}}$.\n",
    "3. Доверительный интервал для генерального значения представляется в виде: $(\\bar{z}-\\lambda(\\gamma)\\bar{\\sigma}_z, \\bar{z}+\\lambda(\\gamma)\\bar{\\sigma}_z)$, где значение $\\lambda(\\gamma)$ должно удовлетворять условию: $\\Phi[\\lambda(\\gamma)] = \\frac{\\gamma}{2}$.\n",
    "4. Для пересчета интервала пункта 3 в доверительный интервал для коэффициента корреляции с тем же значением $\\gamma$ необходимо воспользоваться обратным преобразованием Фишера: $r = th(z) = \\frac{e^z - e^{-z}}{e^z + e^{-z}} = \\frac{e^{2z} - 1}{e^{2z} + 1}$.\n",
    "\n",
    "**Алгоритм проверки статистической гипотезы о равенстве коэффициента корреляции нулю:**\n",
    "1. Вычислляется значение $T_{набл} = \\frac{\\bar{r}_{xy}\\sqrt{N-2}}{\\sqrt{1-\\bar{r}_{xy}^2}}$.\n",
    "2. По заданному уровню значимости $\\alpha$ и значению $k$ из таблицы определяется значение $t_{крит}(\\alpha,k)$.\n",
    "3. Если $|T_{набл}| \\leq t_{крит}(\\alpha,k)$ - нет оснований отвергать гипотезу $H_0$.\n",
    "4. Если $|T_{набл}| \\ge t_{крит}(\\alpha,k)$ - основная гипотеза $H_0$ с выборочными данными должна быть отвергнута."
   ]
  },
  {
   "cell_type": "markdown",
   "metadata": {},
   "source": [
    "## Постановка задачи\n",
    "\n",
    "Из заданной генеральной совокупности сформировать выборку по второму признаку. Провести статистическую обработку второй выборки в объеме лабораторных работ №1 и №2, с целью определения точечных статистических оценок параметров распределения исследуемого признака (математического ожидания, дисперсии, среднеквадратичного отклонения, асимметрии и эксцесса). Для системы двух случайных величин $X$ (первый признак) и $Y$ (второй признак) сформировать двумерную выборку и найти статистическую оценку коэффициента корреляции, построить доверительный интервал для коэффициента корреляции и осуществить проверку статистической гипотезы о равенстве коэффициента корреляции нулю. Полученные результаты содержательно проинтерпретировать.\n",
    "\n",
    "### Порядок выполнения работы\n",
    "\n",
    "1. Провести статистическую обработку второй выборки в объеме лабораторных работ №1 и №2, с целью определения точечных статистических оценок параметров распределения исследуемого признака (математического ожидания, дисперсии, среднеквадратичного отклонения, асимметрии, эксцесса, моды и медианы). Оформить результаты в виде таблицы, сделать выводы.\n",
    "2. Построить двумерный интервальный вариационный ряд, оформить в виде таблицы.\n",
    "3. По полученному двумерному интервальному вариационному ряду построить корреляционную таблицу, сделать выводы.\n",
    "4. Исходя из результатов корреляционной таблицы вычислить значение выборочного коэффициента корреляции двумя способами: с помощью стандартной формулы и с помощью условных вариант. Убедиться, что результаты совпадают. Сделать выводы.\n",
    "5. Построить доверительный интервал для коэффициента корреляции при уровне значимости $\\gamma \\in \\{0.95, 0.99\\}$, сделать выводы.\n",
    "6. Осуществить проверку статистической гипотезы о равенстве коэффициента корреляции нулю при заданном уровне значимости $\\alpha = 0.05$, сделать выводы."
   ]
  },
  {
   "cell_type": "markdown",
   "metadata": {},
   "source": [
    "## Выполнение работы\n",
    "\n",
    "### Определение точечных статистических оценок параметров распределения исследуемых признаков\n",
    "Составим таблицу точечных статистических оценок параметров распределения исследуемых признаков (математическое ожидание, дисперсия, среднеквадратичное отклонение, асимметрия, эксцесс, мода и медиана)."
   ]
  },
  {
   "cell_type": "code",
   "execution_count": 1,
   "metadata": {},
   "outputs": [
    {
     "data": {
      "text/plain": "  признак         $M$        $s^2$        $s$     $A_s$       $E$        $Mo$  \\\n0     DMC  112.157510  3812.921565  61.748859  0.406005 -0.186548  125.656714   \n1    temp   19.180829    30.470993   5.520054 -0.244157  0.025187   19.126782   \n\n         $Me$  \n0  111.200630  \n1   19.283549  ",
      "text/html": "<div>\n<style scoped>\n    .dataframe tbody tr th:only-of-type {\n        vertical-align: middle;\n    }\n\n    .dataframe tbody tr th {\n        vertical-align: top;\n    }\n\n    .dataframe thead th {\n        text-align: right;\n    }\n</style>\n<table border=\"1\" class=\"dataframe\">\n  <thead>\n    <tr style=\"text-align: right;\">\n      <th></th>\n      <th>признак</th>\n      <th>$M$</th>\n      <th>$s^2$</th>\n      <th>$s$</th>\n      <th>$A_s$</th>\n      <th>$E$</th>\n      <th>$Mo$</th>\n      <th>$Me$</th>\n    </tr>\n  </thead>\n  <tbody>\n    <tr>\n      <th>0</th>\n      <td>DMC</td>\n      <td>112.157510</td>\n      <td>3812.921565</td>\n      <td>61.748859</td>\n      <td>0.406005</td>\n      <td>-0.186548</td>\n      <td>125.656714</td>\n      <td>111.200630</td>\n    </tr>\n    <tr>\n      <th>1</th>\n      <td>temp</td>\n      <td>19.180829</td>\n      <td>30.470993</td>\n      <td>5.520054</td>\n      <td>-0.244157</td>\n      <td>0.025187</td>\n      <td>19.126782</td>\n      <td>19.283549</td>\n    </tr>\n  </tbody>\n</table>\n</div>"
     },
     "execution_count": 1,
     "metadata": {},
     "output_type": "execute_result"
    }
   ],
   "source": [
    "import pandas as pd\n",
    "import numpy as np\n",
    "import math\n",
    "import warnings\n",
    "warnings.filterwarnings('ignore')\n",
    "\n",
    "data = pd.read_csv('forestfires_105.csv', usecols=['DMC', 'temp'], sep=',')\n",
    "\n",
    "data_DMC = data.loc[:,['DMC']]\n",
    "ranked_DMC = data_DMC.sort_values(by='DMC')\n",
    "k = 1 + math.floor(3.322 * math.log10(ranked_DMC.size))\n",
    "h_DMC = (ranked_DMC['DMC'].max() - ranked_DMC['DMC'].min()) / k\n",
    "points = np.concatenate((np.arange(ranked_DMC['DMC'].min(), ranked_DMC['DMC'].max(), h_DMC), [ranked_DMC['DMC'].max()]))\n",
    "interval_DMC = ranked_DMC.groupby(pd.cut(ranked_DMC['DMC'], points)).size().reset_index(name='frequency')\n",
    "interval_DMC['frequency'][0] += 1\n",
    "table_DMC = pd.DataFrame()\n",
    "table_DMC['DMC'] = interval_DMC['DMC']\n",
    "table_DMC['x_i'] = interval_DMC['DMC'].apply(lambda x: x.mid).astype('float')\n",
    "table_DMC['n_i'] = interval_DMC['frequency']\n",
    "center_DMC = table_DMC['x_i'][math.floor(k / 2)]\n",
    "table_DMC['u_i'] = table_DMC['x_i'].apply(lambda x: (x - center_DMC) / h_DMC)\n",
    "table_DMC['n_cum'] = np.cumsum(interval_DMC['frequency'])\n",
    "\n",
    "moments_DMC = pd.DataFrame(columns=['k', 'M_k'])\n",
    "for k in range(4):\n",
    "    moment = table_DMC.apply(lambda i: i['n_i'] * (i['u_i'] ** (k+1)), axis=1).sum() / 105\n",
    "    moments_DMC.loc[k] = [k + 1, moment]\n",
    "moments_DMC['mu_k'] = pd.Series([0,\n",
    "    (moments_DMC['M_k'][1] - (moments_DMC['M_k'][0] ** 2)) * (h_DMC ** 2),\n",
    "    (moments_DMC['M_k'][2] - 3 * moments_DMC['M_k'][1] * moments_DMC['M_k'][0] + 2 * (moments_DMC['M_k'][0] ** 3)) * (h_DMC ** 3),\n",
    "    (moments_DMC['M_k'][3] - 4 * moments_DMC['M_k'][2] * moments_DMC['M_k'][0] + 6 * moments_DMC['M_k'][1] * (moments_DMC['M_k'][0] ** 2) - 3 * (moments_DMC['M_k'][0] ** 4)) * (h_DMC ** 4)]).astype('float')\n",
    "\n",
    "DMC_M = table_DMC.apply(lambda i: i['n_i'] * (i['x_i']), axis=1).sum() / 105\n",
    "DMC_D = table_DMC.apply(lambda i: (i['x_i'] - DMC_M) ** 2 * i['n_i'], axis=1).sum() / 104\n",
    "DMC_A = (moments_DMC['mu_k'][2]) / (math.sqrt(moments_DMC['mu_k'][1]) ** 3)\n",
    "DMC_E = (moments_DMC['mu_k'][3]) / (moments_DMC['mu_k'][1] ** 2) - 3\n",
    "DMC_Mo = interval_DMC['DMC'].apply(lambda x: x.left).astype('float')[2] + h_DMC * (table_DMC['n_i'][2] - table_DMC['n_i'][1]) / ((table_DMC['n_i'][2] - table_DMC['n_i'][1]) + (table_DMC['n_i'][2] - table_DMC['n_i'][3]))\n",
    "DMC_Me = interval_DMC['DMC'].apply(lambda x: x.left).astype('float')[2] + h_DMC * (105 * 0.5 - table_DMC['n_cum'][1]) / (table_DMC['n_i'][2])\n",
    "\n",
    "data_temp = data.loc[:,['temp']]\n",
    "ranked_temp = data_temp.sort_values(by='temp')\n",
    "k = 1 + math.floor(3.322 * math.log10(ranked_DMC.size))\n",
    "h_temp = (ranked_temp['temp'].max() - ranked_temp['temp'].min()) / k\n",
    "points = np.concatenate((np.arange(ranked_temp['temp'].min(), ranked_temp['temp'].max(), h_temp), [ranked_temp['temp'].max()]))\n",
    "interval_temp = ranked_temp.groupby(pd.cut(ranked_temp['temp'], points)).size().reset_index(name='frequency')\n",
    "interval_temp['frequency'][0] += 1\n",
    "table_temp = pd.DataFrame()\n",
    "table_temp['temp'] = interval_temp['temp']\n",
    "table_temp['x_i'] = interval_temp['temp'].apply(lambda x: x.mid).astype('float')\n",
    "table_temp['n_i'] = interval_temp['frequency']\n",
    "center_temp = table_temp['x_i'][math.floor(k / 2)]\n",
    "table_temp['u_i'] = table_temp['x_i'].apply(lambda x: (x - center_temp) / h_temp)\n",
    "table_temp['n_cum'] = np.cumsum(interval_temp['frequency'])\n",
    "\n",
    "moments_temp = pd.DataFrame(columns=['k', 'M_k'])\n",
    "for k in range(4):\n",
    "    moment = table_temp.apply(lambda i: i['n_i'] * (i['u_i'] ** (k+1)), axis=1).sum() / 105\n",
    "    moments_temp.loc[k] = [k + 1, moment]\n",
    "moments_temp['mu_k'] = pd.Series([0,\n",
    "    (moments_temp['M_k'][1] - (moments_temp['M_k'][0] ** 2)) * (h_temp ** 2),\n",
    "    (moments_temp['M_k'][2] - 3 * moments_temp['M_k'][1] * moments_temp['M_k'][0] + 2 * (moments_temp['M_k'][0] ** 3)) * (h_temp ** 3),\n",
    "    (moments_temp['M_k'][3] - 4 * moments_temp['M_k'][2] * moments_temp['M_k'][0] + 6 * moments_temp['M_k'][1] * (moments_temp['M_k'][0] ** 2) - 3 * (moments_temp['M_k'][0] ** 4)) * (h_temp ** 4)]).astype('float')\n",
    "\n",
    "temp_M = table_temp.apply(lambda i: i['n_i'] * (i['x_i']), axis=1).sum() / 105\n",
    "temp_D = table_temp.apply(lambda i: (i['x_i'] - temp_M) ** 2 * i['n_i'], axis=1).sum() / 104\n",
    "temp_A = (moments_temp['mu_k'][2]) / (math.sqrt(moments_temp['mu_k'][1]) ** 3)\n",
    "temp_E = (moments_temp['mu_k'][3]) / (moments_temp['mu_k'][1] ** 2) - 3\n",
    "temp_Mo = interval_temp['temp'].apply(lambda x: x.left).astype('float')[3] + h_temp * (table_temp['n_i'][3] - table_temp['n_i'][2]) / ((table_temp['n_i'][3] - table_temp['n_i'][2]) + (table_temp['n_i'][3] - table_temp['n_i'][4]))\n",
    "temp_Me = interval_temp['temp'].apply(lambda x: x.left).astype('float')[3] + h_temp * (105 * 0.5 - table_temp['n_cum'][2]) / (table_temp['n_i'][3])\n",
    "\n",
    "table = pd.DataFrame(columns=['признак', '$M$', '$s^2$', '$s$', '$A_s$', '$E$', '$Mo$', '$Me$'])\n",
    "table.loc[0] = ['DMC', DMC_M, DMC_D, math.sqrt(DMC_D), DMC_A, DMC_E, DMC_Mo, DMC_Me]\n",
    "table.loc[1] = ['temp', temp_M, temp_D, math.sqrt(temp_D), temp_A, temp_E, temp_Mo, temp_Me]\n",
    "table"
   ]
  },
  {
   "cell_type": "markdown",
   "source": [
    "### Построение двумерного интервального вариационного ряда\n",
    "\n",
    "Построим двумерный интервальный ряд."
   ],
   "metadata": {
    "collapsed": false
   }
  },
  {
   "cell_type": "code",
   "execution_count": 2,
   "outputs": [
    {
     "data": {
      "text/plain": "DMC               (2.4, 43.486]  (43.486, 84.571]  (84.571, 125.657]  \\\ntemp                                                                   \n(4.6, 8.571]                  5                 0                  0   \n(8.571, 12.543]               4                 1                  1   \n(12.543, 16.514]              3                 4                  1   \n(16.514, 20.486]              4                 6                 16   \n(20.486, 24.457]              1                 6                  6   \n(24.457, 28.429]              0                 1                  3   \n(28.429, 32.4]                0                 0                  0   \n\nDMC               (125.657, 166.743]  (166.743, 207.829]  (207.829, 248.914]  \\\ntemp                                                                           \n(4.6, 8.571]                       0                   0                   0   \n(8.571, 12.543]                    1                   0                   0   \n(12.543, 16.514]                   4                   0                   0   \n(16.514, 20.486]                   8                   1                   2   \n(20.486, 24.457]                   8                   3                   1   \n(24.457, 28.429]                   2                   3                   2   \n(28.429, 32.4]                     4                   1                   0   \n\nDMC               (248.914, 290.0]  \ntemp                                \n(4.6, 8.571]                     0  \n(8.571, 12.543]                  1  \n(12.543, 16.514]                 1  \n(16.514, 20.486]                 1  \n(20.486, 24.457]                 0  \n(24.457, 28.429]                 0  \n(28.429, 32.4]                   0  ",
      "text/html": "<div>\n<style scoped>\n    .dataframe tbody tr th:only-of-type {\n        vertical-align: middle;\n    }\n\n    .dataframe tbody tr th {\n        vertical-align: top;\n    }\n\n    .dataframe thead th {\n        text-align: right;\n    }\n</style>\n<table border=\"1\" class=\"dataframe\">\n  <thead>\n    <tr style=\"text-align: right;\">\n      <th>DMC</th>\n      <th>(2.4, 43.486]</th>\n      <th>(43.486, 84.571]</th>\n      <th>(84.571, 125.657]</th>\n      <th>(125.657, 166.743]</th>\n      <th>(166.743, 207.829]</th>\n      <th>(207.829, 248.914]</th>\n      <th>(248.914, 290.0]</th>\n    </tr>\n    <tr>\n      <th>temp</th>\n      <th></th>\n      <th></th>\n      <th></th>\n      <th></th>\n      <th></th>\n      <th></th>\n      <th></th>\n    </tr>\n  </thead>\n  <tbody>\n    <tr>\n      <th>(4.6, 8.571]</th>\n      <td>5</td>\n      <td>0</td>\n      <td>0</td>\n      <td>0</td>\n      <td>0</td>\n      <td>0</td>\n      <td>0</td>\n    </tr>\n    <tr>\n      <th>(8.571, 12.543]</th>\n      <td>4</td>\n      <td>1</td>\n      <td>1</td>\n      <td>1</td>\n      <td>0</td>\n      <td>0</td>\n      <td>1</td>\n    </tr>\n    <tr>\n      <th>(12.543, 16.514]</th>\n      <td>3</td>\n      <td>4</td>\n      <td>1</td>\n      <td>4</td>\n      <td>0</td>\n      <td>0</td>\n      <td>1</td>\n    </tr>\n    <tr>\n      <th>(16.514, 20.486]</th>\n      <td>4</td>\n      <td>6</td>\n      <td>16</td>\n      <td>8</td>\n      <td>1</td>\n      <td>2</td>\n      <td>1</td>\n    </tr>\n    <tr>\n      <th>(20.486, 24.457]</th>\n      <td>1</td>\n      <td>6</td>\n      <td>6</td>\n      <td>8</td>\n      <td>3</td>\n      <td>1</td>\n      <td>0</td>\n    </tr>\n    <tr>\n      <th>(24.457, 28.429]</th>\n      <td>0</td>\n      <td>1</td>\n      <td>3</td>\n      <td>2</td>\n      <td>3</td>\n      <td>2</td>\n      <td>0</td>\n    </tr>\n    <tr>\n      <th>(28.429, 32.4]</th>\n      <td>0</td>\n      <td>0</td>\n      <td>0</td>\n      <td>4</td>\n      <td>1</td>\n      <td>0</td>\n      <td>0</td>\n    </tr>\n  </tbody>\n</table>\n</div>"
     },
     "execution_count": 2,
     "metadata": {},
     "output_type": "execute_result"
    }
   ],
   "source": [
    "n = []\n",
    "k = 1 + math.floor(3.322 * math.log10(ranked_DMC.size))\n",
    "for i in range(k):\n",
    "    n.append([])\n",
    "    if i == 0:\n",
    "        n_temp = (data['temp'] >= interval_temp['temp'].apply(lambda x: x.left).astype('float')[i]) & (data['temp'] <= interval_temp['temp'].apply(lambda x: x.right).astype('float')[i])\n",
    "    else:\n",
    "        n_temp = (data['temp'] > interval_temp['temp'].apply(lambda x: x.left).astype('float')[i]) & (data['temp'] <= interval_temp['temp'].apply(lambda x: x.right).astype('float')[i])\n",
    "\n",
    "    for j in range(k):\n",
    "        if j == 0:\n",
    "            n_DMC = (data['DMC'] >= interval_DMC['DMC'].apply(lambda x: x.left).astype('float')[j]) & (data['DMC'] <= interval_DMC['DMC'].apply(lambda x: x.right).astype('float')[j])\n",
    "        else:\n",
    "            n_DMC = (data['DMC'] > interval_DMC['DMC'].apply(lambda x: x.left).astype('float')[j]) & (data['DMC'] <= interval_DMC['DMC'].apply(lambda x: x.right).astype('float')[j])\n",
    "        n[i].append(len(data[n_temp & n_DMC]))\n",
    "\n",
    "interval = pd.DataFrame(n)\n",
    "interval.index = interval_temp['temp']\n",
    "interval.columns = interval_DMC['DMC']\n",
    "interval"
   ],
   "metadata": {
    "collapsed": false,
    "pycharm": {
     "name": "#%%\n"
    }
   }
  },
  {
   "cell_type": "markdown",
   "source": [
    "### Построение корреляционной таблицы\n",
    "\n",
    "По полученному двумерному интервальному ряду построим корреляционную таблицу."
   ],
   "metadata": {
    "collapsed": false
   }
  },
  {
   "cell_type": "code",
   "execution_count": 3,
   "outputs": [
    {
     "data": {
      "text/plain": "DMC               (2.4, 43.486]  (43.486, 84.571]  (84.571, 125.657]  \\\ntemp                                                                   \n(4.6, 8.571]                  5                 0                  0   \n(8.571, 12.543]               4                 1                  1   \n(12.543, 16.514]              3                 4                  1   \n(16.514, 20.486]              4                 6                 16   \n(20.486, 24.457]              1                 6                  6   \n(24.457, 28.429]              0                 1                  3   \n(28.429, 32.4]                0                 0                  0   \n$n_{DMC}$                    17                18                 27   \n\nDMC               (125.657, 166.743]  (166.743, 207.829]  (207.829, 248.914]  \\\ntemp                                                                           \n(4.6, 8.571]                       0                   0                   0   \n(8.571, 12.543]                    1                   0                   0   \n(12.543, 16.514]                   4                   0                   0   \n(16.514, 20.486]                   8                   1                   2   \n(20.486, 24.457]                   8                   3                   1   \n(24.457, 28.429]                   2                   3                   2   \n(28.429, 32.4]                     4                   1                   0   \n$n_{DMC}$                         27                   8                   5   \n\nDMC               (248.914, 290.0]  $n_{temp}$  \ntemp                                            \n(4.6, 8.571]                     0           5  \n(8.571, 12.543]                  1           8  \n(12.543, 16.514]                 1          13  \n(16.514, 20.486]                 1          38  \n(20.486, 24.457]                 0          25  \n(24.457, 28.429]                 0          11  \n(28.429, 32.4]                   0           5  \n$n_{DMC}$                        3         105  ",
      "text/html": "<div>\n<style scoped>\n    .dataframe tbody tr th:only-of-type {\n        vertical-align: middle;\n    }\n\n    .dataframe tbody tr th {\n        vertical-align: top;\n    }\n\n    .dataframe thead th {\n        text-align: right;\n    }\n</style>\n<table border=\"1\" class=\"dataframe\">\n  <thead>\n    <tr style=\"text-align: right;\">\n      <th>DMC</th>\n      <th>(2.4, 43.486]</th>\n      <th>(43.486, 84.571]</th>\n      <th>(84.571, 125.657]</th>\n      <th>(125.657, 166.743]</th>\n      <th>(166.743, 207.829]</th>\n      <th>(207.829, 248.914]</th>\n      <th>(248.914, 290.0]</th>\n      <th>$n_{temp}$</th>\n    </tr>\n    <tr>\n      <th>temp</th>\n      <th></th>\n      <th></th>\n      <th></th>\n      <th></th>\n      <th></th>\n      <th></th>\n      <th></th>\n      <th></th>\n    </tr>\n  </thead>\n  <tbody>\n    <tr>\n      <th>(4.6, 8.571]</th>\n      <td>5</td>\n      <td>0</td>\n      <td>0</td>\n      <td>0</td>\n      <td>0</td>\n      <td>0</td>\n      <td>0</td>\n      <td>5</td>\n    </tr>\n    <tr>\n      <th>(8.571, 12.543]</th>\n      <td>4</td>\n      <td>1</td>\n      <td>1</td>\n      <td>1</td>\n      <td>0</td>\n      <td>0</td>\n      <td>1</td>\n      <td>8</td>\n    </tr>\n    <tr>\n      <th>(12.543, 16.514]</th>\n      <td>3</td>\n      <td>4</td>\n      <td>1</td>\n      <td>4</td>\n      <td>0</td>\n      <td>0</td>\n      <td>1</td>\n      <td>13</td>\n    </tr>\n    <tr>\n      <th>(16.514, 20.486]</th>\n      <td>4</td>\n      <td>6</td>\n      <td>16</td>\n      <td>8</td>\n      <td>1</td>\n      <td>2</td>\n      <td>1</td>\n      <td>38</td>\n    </tr>\n    <tr>\n      <th>(20.486, 24.457]</th>\n      <td>1</td>\n      <td>6</td>\n      <td>6</td>\n      <td>8</td>\n      <td>3</td>\n      <td>1</td>\n      <td>0</td>\n      <td>25</td>\n    </tr>\n    <tr>\n      <th>(24.457, 28.429]</th>\n      <td>0</td>\n      <td>1</td>\n      <td>3</td>\n      <td>2</td>\n      <td>3</td>\n      <td>2</td>\n      <td>0</td>\n      <td>11</td>\n    </tr>\n    <tr>\n      <th>(28.429, 32.4]</th>\n      <td>0</td>\n      <td>0</td>\n      <td>0</td>\n      <td>4</td>\n      <td>1</td>\n      <td>0</td>\n      <td>0</td>\n      <td>5</td>\n    </tr>\n    <tr>\n      <th>$n_{DMC}$</th>\n      <td>17</td>\n      <td>18</td>\n      <td>27</td>\n      <td>27</td>\n      <td>8</td>\n      <td>5</td>\n      <td>3</td>\n      <td>105</td>\n    </tr>\n  </tbody>\n</table>\n</div>"
     },
     "execution_count": 3,
     "metadata": {},
     "output_type": "execute_result"
    }
   ],
   "source": [
    "correlation_table = interval.copy()\n",
    "correlation_table['$n_{temp}$'] = correlation_table.sum(axis=1)\n",
    "correlation_table.loc['$n_{DMC}$']= correlation_table.sum()\n",
    "correlation_table"
   ],
   "metadata": {
    "collapsed": false,
    "pycharm": {
     "name": "#%%\n"
    }
   }
  },
  {
   "cell_type": "markdown",
   "source": [
    "Последний столбец в таблице корреляции соответствует абсолютным частотам интервального ряда второго признака, а последняя строчка таблицы соответствует абсолютным частотам интервального ряда первого признака, их суммы равны и равны объему выборки."
   ],
   "metadata": {
    "collapsed": false
   }
  },
  {
   "cell_type": "markdown",
   "source": [
    "### Вычисление выборочного коэффициента корреляции\n",
    "\n",
    "#### С помощью стандартной формулы\n",
    "Вычислим выборочный коэффициент корреляции по формуле $\\bar{r}_{xy} = \\frac{\\sum_{i=1}^{K_y}\\sum_{j=1}^{K_x}n_{ij}y_ix_j - N\\bar{x}_в\\bar{y}_в}{NS_xS_y}$."
   ],
   "metadata": {
    "collapsed": false
   }
  },
  {
   "cell_type": "code",
   "execution_count": 6,
   "outputs": [
    {
     "name": "stdout",
     "output_type": "stream",
     "text": [
      "$r_{xy}$ =  0.4099325560337709\n"
     ]
    }
   ],
   "source": [
    "xy = 0\n",
    "for i in range(k):\n",
    "    for j in range(k):\n",
    "        xy += table_temp['x_i'][i] * table_DMC['x_i'][j] * n[i][j]\n",
    "\n",
    "r_xy = (xy - 105 * DMC_M * temp_M) / (105 * math.sqrt(DMC_D) * math.sqrt(temp_D))\n",
    "print('$r_{xy}$ = ', r_xy)"
   ],
   "metadata": {
    "collapsed": false,
    "pycharm": {
     "name": "#%%\n"
    }
   }
  },
  {
   "cell_type": "markdown",
   "source": [
    "#### С помощью условных вариант\n",
    "Вычислим выборочный коэффициент корреляции по формуле $\\bar{r}_{xy} = \\frac{\\sum_{i=1}^{K_y}\\sum_{j=1}^{K_x}n_{ij}u_iv_j - N\\bar{u}\\bar{v}}{NS_uS_v}$."
   ],
   "metadata": {
    "collapsed": false
   }
  },
  {
   "cell_type": "code",
   "execution_count": 7,
   "outputs": [
    {
     "name": "stdout",
     "output_type": "stream",
     "text": [
      "$r_{xy}$ =  0.40992663607179525\n"
     ]
    }
   ],
   "source": [
    "u = round(table_temp['u_i'])\n",
    "v = round(table_DMC['u_i'])\n",
    "xy = 0\n",
    "for i in range(k):\n",
    "    for j in range(k):\n",
    "        xy += u[i] * v[j] * n[i][j]\n",
    "r_xy = (xy - 105*moments_DMC['M_k'][0]*moments_temp['M_k'][0])/(105*math.sqrt((moments_temp['M_k'][1] - moments_temp['M_k'][0]**2) * (105/104))*math.sqrt((moments_DMC['M_k'][1] - moments_DMC['M_k'][0]**2) * (105/104)))\n",
    "print('$r_{xy}$ = ', r_xy)"
   ],
   "metadata": {
    "collapsed": false,
    "pycharm": {
     "name": "#%%\n"
    }
   }
  },
  {
   "cell_type": "markdown",
   "source": [
    "Выборочные коэффициенты корреляции, вычисленные с помощью стандартной формулы и с помощью условных вариант, совпадают. Теснота корреляционной связи 0.4."
   ],
   "metadata": {
    "collapsed": false
   }
  },
  {
   "cell_type": "markdown",
   "source": [
    "### Построение доверительного интервала для коэффициента корреляции\n",
    "\n",
    "Построим доверительный интервал для коэффициента корреляции при уровне значимости $\\gamma = \\{0.95, 0.99\\}$ с помощью преобразования Фишера с переходом к случайной величине $z$: $\\bar{z} = 0.5\\ln\\frac{1+\\bar{r}_{xy}}{1-\\bar{r}_{xy}} = 1.1513 \\lg\\frac{1+\\bar{r}_{xy}}{1-\\bar{r}_{xy}}$, доверительный интервал которой $(\\bar{z}-\\lambda(\\gamma)\\bar{\\sigma}_z, \\bar{z}+\\lambda(\\gamma)\\bar{\\sigma}_z)$, где значение СКВО $\\bar{\\sigma}_z = \\frac{1}{\\sqrt{N-3}}$, значение $\\lambda(\\gamma)$ должно удовлетворять условию: $\\Phi[\\lambda(\\gamma)] = \\frac{\\gamma}{2}$ получены по таблице.\n",
    "Для пересчета интервала в доверительный интервал для коэффициента корреляции с тем же значением $\\gamma$ воспользуемся обратным преобразованием Фишера: $r = th(z) = \\frac{e^z - e^{-z}}{e^z + e^{-z}} = \\frac{e^{2z} - 1}{e^{2z} + 1}$."
   ],
   "metadata": {
    "collapsed": false
   }
  },
  {
   "cell_type": "code",
   "execution_count": 16,
   "outputs": [
    {
     "data": {
      "text/plain": "   $\\gamma$                                  interval\n0      0.95   (0.2368687550777114, 0.557771181881959)\n1      0.99  (0.1791023345014091, 0.5979761908106437)",
      "text/html": "<div>\n<style scoped>\n    .dataframe tbody tr th:only-of-type {\n        vertical-align: middle;\n    }\n\n    .dataframe tbody tr th {\n        vertical-align: top;\n    }\n\n    .dataframe thead th {\n        text-align: right;\n    }\n</style>\n<table border=\"1\" class=\"dataframe\">\n  <thead>\n    <tr style=\"text-align: right;\">\n      <th></th>\n      <th>$\\gamma$</th>\n      <th>interval</th>\n    </tr>\n  </thead>\n  <tbody>\n    <tr>\n      <th>0</th>\n      <td>0.95</td>\n      <td>(0.2368687550777114, 0.557771181881959)</td>\n    </tr>\n    <tr>\n      <th>1</th>\n      <td>0.99</td>\n      <td>(0.1791023345014091, 0.5979761908106437)</td>\n    </tr>\n  </tbody>\n</table>\n</div>"
     },
     "execution_count": 16,
     "metadata": {},
     "output_type": "execute_result"
    }
   ],
   "source": [
    "gamma = [0.95, 0.99]\n",
    "lambda_gamma = [1.96, 2.57]\n",
    "r = pd.DataFrame(columns=['$\\gamma$', 'interval'])\n",
    "z = 0.5 * math.log((1 + r_xy)/(1 - r_xy))\n",
    "sigma_z = 1 / math.sqrt(102)\n",
    "for i in range(2):\n",
    "    r.loc[i] = [gamma[i], '(' + format(math.tanh(z - lambda_gamma[i]*sigma_z)) + ', ' + format(math.tanh(z + lambda_gamma[i]*sigma_z)) + ')']\n",
    "r"
   ],
   "metadata": {
    "collapsed": false,
    "pycharm": {
     "name": "#%%\n"
    }
   }
  },
  {
   "cell_type": "markdown",
   "source": [
    "При увеличении уровня значимости увеличивается доверительный интервал. По значениям доверительных интервалов можно сделать вывод, что сила корреляционной связи небольшая."
   ],
   "metadata": {
    "collapsed": false
   }
  },
  {
   "cell_type": "markdown",
   "source": [
    "### Проверка статистической гипотезы о равенстве коэффициента корреляции нулю\n",
    "\n",
    "Проверим гипотезу $H_0$ о равенстве коэффициента корреляции нулю. В качестве критерия проверки примем случайную величину $T_{набл} = \\frac{\\bar{r}_{xy}\\sqrt{N-2}}{\\sqrt{1-\\bar{r}_{xy}^2}}$, при справедливости нулевой гипотезы она распределена по закону Стьюдента с 103 степенями свободы.\n",
    "\n",
    "По заданному уровню значимости $\\alpha = 0.05$ и значению $k = 103$ определим с помощью интерполяции значение $t_{крит}(\\alpha,k)$."
   ],
   "metadata": {
    "collapsed": false
   }
  },
  {
   "cell_type": "code",
   "execution_count": 37,
   "outputs": [
    {
     "name": "stdout",
     "output_type": "stream",
     "text": [
      "$t_{крит}$ =  1.77599352836703\n"
     ]
    }
   ],
   "source": [
    "from scipy import interpolate\n",
    "k = np.concatenate((np.arange(1,31,1), ([40,60,120])))\n",
    "t = [12.7,4.3,3.18,2.78,2.57,2.45,2.36,2.31,2.26,2.23,2.20,2.18,2.16,2.14,2.13,2.11,2.1,2.09,2.09,2.08,2.07,2.07,2.06,2.06,2.06,2.05,2.05,2.05,2.04,2.02,2,1.98,1.96]\n",
    "t_k = interpolate.interp1d(k, t, kind = 'cubic')\n",
    "t_k_alpha = float(format(t_k(103)))\n",
    "print('$t_{крит}$ = ',t_k_alpha)"
   ],
   "metadata": {
    "collapsed": false,
    "pycharm": {
     "name": "#%%\n"
    }
   }
  },
  {
   "cell_type": "code",
   "execution_count": 40,
   "outputs": [
    {
     "name": "stdout",
     "output_type": "stream",
     "text": [
      "Нулевая гипотеза отвергается, | 4.561140895229781 | >  1.77599352836703\n"
     ]
    }
   ],
   "source": [
    "alpha = 0.05\n",
    "T = r_xy * math.sqrt(103 / (1 - r_xy ** 2))\n",
    "if abs(T) > t_k_alpha:\n",
    "    print('Нулевая гипотеза отвергается, |',T,'| > ', t_k_alpha)\n",
    "else:\n",
    "    print('Нулевая гипотеза принимается, |',T,'| $\\leq$ ', t_k_alpha)"
   ],
   "metadata": {
    "collapsed": false,
    "pycharm": {
     "name": "#%%\n"
    }
   }
  },
  {
   "cell_type": "markdown",
   "source": [
    "Нулевая гипотеза отвергается, следовательно выборочный коэффициент корреляции значимо отличается от нуля, случайные величины коррелированы. Т.к. индекс DMC определяется по системе FWI - определение погодного индекса, то DMC действительно зависит от значения температуры, но также и от других параметров, поэтому сила корреляционной связи случайных величин средняя."
   ],
   "metadata": {
    "collapsed": false
   }
  },
  {
   "cell_type": "markdown",
   "metadata": {},
   "source": [
    "## Выводы\n",
    "\n",
    "В процессе выполнения лабораторной работы была проведена статистическая обработка признаков, построен двумерный интервальный вариационный ряд и корреляционная таблица, вычислено значение выборочного коэффициента корреляции двумя способами, построен доверительный интервал для коэффициента корреляции при уровне значимости $\\gamma = \\{0.95,0.99\\}$, осуществлена проверка статистической гипотезы о равенстве коэффициента корреляции нулю при уровне значимости 0.05 - гипотеза отвергается, коэффициент корреляции значимо отличается от нуля, случайные величины коррелированы."
   ]
  }
 ],
 "metadata": {
  "kernelspec": {
   "display_name": "Python 3",
   "language": "python",
   "name": "python3"
  },
  "language_info": {
   "codemirror_mode": {
    "name": "ipython",
    "version": 3
   },
   "file_extension": ".py",
   "mimetype": "text/x-python",
   "name": "python",
   "nbconvert_exporter": "python",
   "pygments_lexer": "ipython3",
   "version": "3.8.10"
  }
 },
 "nbformat": 4,
 "nbformat_minor": 4
}