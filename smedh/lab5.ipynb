{
 "cells": [
  {
   "cell_type": "markdown",
   "metadata": {},
   "source": [
    "# Лабораторная работа №5: Элементы регрессионного анализа. Выборочные прямые среднеквадратической регрессии. Корреляционные отношения\n",
    "\n",
    "Выполнили студентки гр. 8383 Ишанина Людмила и Сырцова Екатерина. Вариант №6."
   ]
  },
  {
   "cell_type": "markdown",
   "source": [
    "## Цель работы\n",
    "\n",
    "Ознакомление с основными положениями метода наименьших квадратов (МНК), со статистическими свойствами МНК оценок, с понятием функции регрессии и роли МНК в регрессионном анализе, с корреляционным отношением, как мерой тесноты произвольной (в том числе и линейной) корреляционной связи."
   ],
   "metadata": {
    "collapsed": false
   }
  },
  {
   "cell_type": "markdown",
   "metadata": {},
   "source": [
    "## Основные теоретические положения\n",
    "\n",
    "**Метод наименьших квадратов (МНК)** - метод, основанный на поиске минимума суммы квадратов отклонений значений некоторых функций от заданного множества значений.\n",
    "МНК является одним из основных методов регрессионного анализа и применяется для оценки параметров регрессионных моделей на основе выборочных данных:\n",
    "$$M(X/y) = q_1(y), M(Y/x) = q_2(x)$$\n",
    "\n",
    "**Линейная функция среднеквадратической регрессии** $Y$ на $X$: $g(x) = m(Y/x) = m(Y) + r_{xy}\\frac{\\sigma_y}{\\sigma_x}[x - m(X)]$.\n",
    "Коэффициент $\\rho_{xy} = r_{xy}\\frac{\\sigma_y}{\\sigma_x}$ называют **коэффициентом регрессии** $Y$ на $X$.\n",
    "**Остаточная дисперсия** случайной величины $Y$ относительно случайной величины $X$ равна $\\sigma_y^2(1 - r_{xy}^2)$.\n",
    "\n",
    "**Линейная функция среднеквадратической регрессии** $Y$ на $Y$: $g(y) = m(X/y) = m(X) + r_{xy}\\frac{\\sigma_x}{\\sigma_y}[y - m(Y)]$.\n",
    "Коэффициент $\\rho_{xy} = r_{xy}\\frac{\\sigma_x}{\\sigma_y}$ называют **коэффициентом регрессии** $X$ на $Y$.\n",
    "**Остаточная дисперсия** равна $\\sigma_x^2(1 - r_{xy}^2)$.\n",
    "\n",
    "**Выборочные прямые среднеквадратической регрессии**\n",
    "$$\\bar{x}_y = \\bar{x}_в + \\bar{r}_{xy}\\frac{S_x}{S_y}(y - \\bar{y}_в)$$\n",
    "$$\\bar{y}_x = \\bar{y}_в + \\bar{r}_{xy}\\frac{S_y}{S_x}(x - \\bar{x}_в)$$\n",
    "\n",
    "Для оценки корреляционной зависимости между случайными величинами в общем, а не только линейной, может быть использована так называемое **корреляционное отношение**.\n",
    "Определим $D_{внгр}$ - **внутригрупповую дисперсию**, как взвешенную по объемам групп среднюю арифметическую групповых дисперсий.\n",
    "$$D_{внгр} = \\frac{\\sum{(x_i - \\bar{x}_{y_i})^2} \\cdot n_i}{\\sum{n_i}}$$\n",
    "Определим $D_{межгр}$ **межгрупповую дисперсию**, как дисперсию условных (групповых) средних $\\bar{x}_{y_i}$ относительно выборочной средней $\\bar{x}_в$.\n",
    "$$D_{межгр} = \\frac{\\sum{(\\bar{x}_{y_i} - \\bar{x}_в)^2} \\cdot n_i}{\\sum{n_i}}$$\n",
    "Оценку **общей дисперсии** $X$ можно представить, как сумму внутригрупповой и межгрупповой дисперсий: $D_{общ} = D_{внгр} + D_{межгр}$.\n",
    "Определим $\\bar{\\eta}_{xy}$ - **выборочное корреляционное отношение** $X$ к $Y$  соответствии с выражением $$\\bar{\\eta}_{xy} = \\frac{\\bar{\\sigma}_{\\bar{x}_y}}{\\bar{\\sigma}_x}$$\n",
    "где $\\bar{\\sigma}_{\\bar{x}_y} = \\sqrt{D_{межгр}}$, $\\bar{\\sigma}_x = \\sqrt{D_{общ}}$ - выборочные значения СКВО $\\bar{x}_y$ и $X$ соответственно.\n",
    "Аналагично определяется **выборочное корреляционное отношение** $Y$ к $X$  соответствии с выражением $$\\bar{\\eta}_{yx} = \\frac{\\bar{\\sigma}_{\\bar{y}_x}}{\\bar{\\sigma}_y}$$."
   ]
  },
  {
   "cell_type": "markdown",
   "metadata": {},
   "source": [
    "## Постановка задачи\n",
    "\n",
    "Для заданной двумерной выборки $(X,Y)$ построить уравнения выборочных прямых среднеквадратической регрессии. Полученные линейные функции регрессии отобразить графически. Найти выборочное корреляционное отношение. Полученные результаты содержательно проинтерпретировать.\n",
    "### Порядок выполнения работы\n",
    "1. Отобразить двумерную выборку на графике.\n",
    "2. Для заданной выборки построить уравнения средней квадратичной регрессии $x$ на $y$ и $y$ на $x$ соответственно. Построить полученные прямые на множестве выборки. Объяснить результаты.\n",
    "3. Составить корреляционную таблицу для нахождения выборочного корреляционного отношения. Убедиться, что неравенства $\\eta_{xy} \\geq |r_{xy}|$ и $\\eta_{yx} \\geq |r_{xy}|$ выполняются.\n",
    "4. Для заданной выборки построить корреляционную кривую параболического вида $y = \\beta_2 x^2 + \\beta_1 x + \\beta_0$, а также корреляционную кривую в зависимости от номера варианта и сделать выводы: Дробно-рациональная функция: $y = \\frac{x}{\\beta_1x+\\beta_0}$.\n",
    "5. Дополнительное необязательное задание: Вычислить следующие показатели качества регрессии для каждой кривой и сделать выводы:\n",
    "    теоретический коэффициент детерминации $R^2$;\n",
    "    средняя квадратическая ошибка $S_\\epsilon$;\n",
    "    средняя ошибка аппроксимации (приближения) $A$."
   ]
  },
  {
   "cell_type": "markdown",
   "metadata": {},
   "source": [
    "## Выполнение работы\n",
    "### Двумерная выборка\n",
    "Отобразим двумерную выборку на графике:"
   ]
  },
  {
   "cell_type": "code",
   "execution_count": 255,
   "metadata": {},
   "outputs": [
    {
     "data": {
      "text/plain": "<Figure size 432x288 with 1 Axes>",
      "image/png": "[encoded data removed]"
     },
     "metadata": {
      "needs_background": "light"
     },
     "output_type": "display_data"
    }
   ],
   "source": [
    "import pandas as pd\n",
    "from scipy.optimize import curve_fit\n",
    "from pylab import *\n",
    "from scipy.linalg import *\n",
    "warnings.filterwarnings('ignore')\n",
    "\n",
    "data = pd.read_csv('forestfires_105.csv', usecols=['DMC', 'temp'], sep=',')\n",
    "\n",
    "data_DMC = data.loc[:,['DMC']]\n",
    "ranked_DMC = data_DMC.sort_values(by='DMC')\n",
    "k = 1 + math.floor(3.322 * math.log10(ranked_DMC.size))\n",
    "h_DMC = (ranked_DMC['DMC'].max() - ranked_DMC['DMC'].min()) / k\n",
    "points = np.concatenate((np.arange(ranked_DMC['DMC'].min(), ranked_DMC['DMC'].max(), h_DMC), [ranked_DMC['DMC'].max()]))\n",
    "interval_DMC = ranked_DMC.groupby(pd.cut(ranked_DMC['DMC'], points)).size().reset_index(name='frequency')\n",
    "interval_DMC['frequency'][0] += 1\n",
    "table_DMC = pd.DataFrame()\n",
    "table_DMC['DMC'] = interval_DMC['DMC']\n",
    "table_DMC['x_i'] = interval_DMC['DMC'].apply(lambda x: x.mid).astype('float')\n",
    "table_DMC['n_i'] = interval_DMC['frequency']\n",
    "center_DMC = table_DMC['x_i'][math.floor(k / 2)]\n",
    "table_DMC['u_i'] = table_DMC['x_i'].apply(lambda x: (x - center_DMC) / h_DMC)\n",
    "table_DMC['n_cum'] = np.cumsum(interval_DMC['frequency'])\n",
    "\n",
    "data_temp = data.loc[:,['temp']]\n",
    "ranked_temp = data_temp.sort_values(by='temp')\n",
    "k = 1 + math.floor(3.322 * math.log10(ranked_DMC.size))\n",
    "h_temp = (ranked_temp['temp'].max() - ranked_temp['temp'].min()) / k\n",
    "points = np.concatenate((np.arange(ranked_temp['temp'].min(), ranked_temp['temp'].max(), h_temp), [ranked_temp['temp'].max()]))\n",
    "interval_temp = ranked_temp.groupby(pd.cut(ranked_temp['temp'], points)).size().reset_index(name='frequency')\n",
    "interval_temp['frequency'][0] += 1\n",
    "table_temp = pd.DataFrame()\n",
    "table_temp['temp'] = interval_temp['temp']\n",
    "table_temp['x_i'] = interval_temp['temp'].apply(lambda x: x.mid).astype('float')\n",
    "table_temp['n_i'] = interval_temp['frequency']\n",
    "center_temp = table_temp['x_i'][math.floor(k / 2)]\n",
    "table_temp['u_i'] = table_temp['x_i'].apply(lambda x: (x - center_temp) / h_temp)\n",
    "table_temp['n_cum'] = np.cumsum(interval_temp['frequency'])\n",
    "\n",
    "plt.scatter(data_DMC['DMC'], data_temp['temp'], color = 'red', marker = 'o', alpha = 0.3, label = 'Выборка')\n",
    "plt.xlabel('DMC')\n",
    "plt.ylabel('temp')\n",
    "plt.title('Двумерная выборка')\n",
    "plt.legend()\n",
    "plt.show()"
   ]
  },
  {
   "cell_type": "markdown",
   "source": [
    "### Уравнения средней квадратичной регрессии\n",
    "Для заданной выборки построим уравнения средней квадратичной регрессии $x$ на $y$ и $y$ на $x$ соответственно:\n",
    "$$\\bar{x}_y = \\bar{x}_в + \\bar{r}_{xy} \\frac{S_x}{S_y}(y-\\bar{y}_в) = 108.88 + 49.91(y - 19.20)$$\n",
    "$$\\bar{y}_x = \\bar{y}_в + \\bar{r}_{xy} \\frac{S_y}{S_x}(x-\\bar{x}_в) = 19.20 + 0.0035 (x - 108.88)$$\n",
    "Построим полученные прямые на множестве выборки:"
   ],
   "metadata": {
    "collapsed": false
   }
  },
  {
   "cell_type": "code",
   "execution_count": 257,
   "outputs": [
    {
     "data": {
      "text/plain": "<Figure size 432x288 with 1 Axes>",
      "image/png": "[encoded data removed]"
     },
     "metadata": {
      "needs_background": "light"
     },
     "output_type": "display_data"
    }
   ],
   "source": [
    "x_mean = data_DMC['DMC'].mean()\n",
    "y_mean = data_temp['temp'].mean()\n",
    "r_xy = np.corrcoef(data_DMC['DMC'], data_temp['temp'])[0][1]\n",
    "S_x = data_DMC['DMC'].std() ** 2\n",
    "S_y = data_temp['temp'].std() ** 2\n",
    "yx = data_DMC['DMC'].apply(lambda x: y_mean + r_xy * (S_y / S_x) * (x - x_mean))\n",
    "xy = data_temp['temp'].apply(lambda y: x_mean + r_xy * (S_x / S_y) * (y - y_mean))\n",
    "plt.plot(data_DMC['DMC'], yx, 'aqua', label = 'y(x)', lw = 0.5)\n",
    "plt.plot(xy, data_temp['temp'], 'magenta', label = 'x(y)', lw = 0.5)\n",
    "plt.scatter(data_DMC['DMC'], data_temp['temp'], color = 'red', marker = 'o', alpha = 0.3, label = 'Выборка')\n",
    "plt.xlabel('DMC')\n",
    "plt.ylabel('temp')\n",
    "ax = plt.gca()\n",
    "ax.set_xlim([0, 300])\n",
    "plt.legend()\n",
    "plt.title('Прямые средней квадратичной регрессии')\n",
    "plt.show()"
   ],
   "metadata": {
    "collapsed": false,
    "pycharm": {
     "name": "#%%\n"
    }
   }
  },
  {
   "cell_type": "markdown",
   "source": [
    "Прямые средней квадратичной регрессии пересекаются в точке с координатами $(\\bar{x}_в,\\bar{y}_в)$. Линейная зависимость признаков на графике не наблюдается."
   ],
   "metadata": {
    "collapsed": false
   }
  },
  {
   "cell_type": "markdown",
   "source": [
    "### Выборочное корреляционное отношение\n",
    "Составим корреляционную таблицу для нахождения выборочного корреляционного отношения.\n"
   ],
   "metadata": {
    "collapsed": false
   }
  },
  {
   "cell_type": "code",
   "execution_count": 258,
   "outputs": [
    {
     "data": {
      "text/plain": "DMC               (2.4, 43.486]  (43.486, 84.571]  (84.571, 125.657]  \\\ntemp                                                                   \n(4.6, 8.571]           5.000000          0.000000           0.000000   \n(8.571, 12.543]        4.000000          1.000000           1.000000   \n(12.543, 16.514]       3.000000          4.000000           1.000000   \n(16.514, 20.486]       4.000000          6.000000          16.000000   \n(20.486, 24.457]       1.000000          6.000000           6.000000   \n(24.457, 28.429]       0.000000          1.000000           3.000000   \n(28.429, 32.4]         0.000000          0.000000           0.000000   \n$n_{DMC}$             17.000000         18.000000          27.000000   \n$\\bar{y}_{x_i}$       12.659559         18.941278          19.823833   \n\nDMC               (125.657, 166.743]  (166.743, 207.829]  (207.829, 248.914]  \\\ntemp                                                                           \n(4.6, 8.571]                0.000000             0.00000              0.0000   \n(8.571, 12.543]             1.000000             0.00000              0.0000   \n(12.543, 16.514]            4.000000             0.00000              0.0000   \n(16.514, 20.486]            8.000000             1.00000              2.0000   \n(20.486, 24.457]            8.000000             3.00000              1.0000   \n(24.457, 28.429]            2.000000             3.00000              2.0000   \n(28.429, 32.4]              4.000000             1.00000              0.0000   \n$n_{DMC}$                  27.000000             8.00000              5.0000   \n$\\bar{y}_{x_i}$            21.147667            24.45725             22.4715   \n\nDMC               (248.914, 290.0] $n_{temp}$ $\\bar{x}_{y_i}$  \ntemp                                                           \n(4.6, 8.571]                0.0000        5.0          22.943  \n(8.571, 12.543]             1.0000        8.0       84.571438  \n(12.543, 16.514]            1.0000       13.0       98.793385  \n(16.514, 20.486]            1.0000       38.0      111.601395  \n(20.486, 24.457]            0.0000       25.0        119.9051  \n(24.457, 28.429]            0.0000       11.0      153.670136  \n(28.429, 32.4]              0.0000        5.0        154.4172  \n$n_{DMC}$                   3.0000      105.0                  \n$\\bar{y}_{x_i}$            14.5285                             ",
      "text/html": "<div>\n<style scoped>\n    .dataframe tbody tr th:only-of-type {\n        vertical-align: middle;\n    }\n\n    .dataframe tbody tr th {\n        vertical-align: top;\n    }\n\n    .dataframe thead th {\n        text-align: right;\n    }\n</style>\n<table border=\"1\" class=\"dataframe\">\n  <thead>\n    <tr style=\"text-align: right;\">\n      <th>DMC</th>\n      <th>(2.4, 43.486]</th>\n      <th>(43.486, 84.571]</th>\n      <th>(84.571, 125.657]</th>\n      <th>(125.657, 166.743]</th>\n      <th>(166.743, 207.829]</th>\n      <th>(207.829, 248.914]</th>\n      <th>(248.914, 290.0]</th>\n      <th>$n_{temp}$</th>\n      <th>$\\bar{x}_{y_i}$</th>\n    </tr>\n    <tr>\n      <th>temp</th>\n      <th></th>\n      <th></th>\n      <th></th>\n      <th></th>\n      <th></th>\n      <th></th>\n      <th></th>\n      <th></th>\n      <th></th>\n    </tr>\n  </thead>\n  <tbody>\n    <tr>\n      <th>(4.6, 8.571]</th>\n      <td>5.000000</td>\n      <td>0.000000</td>\n      <td>0.000000</td>\n      <td>0.000000</td>\n      <td>0.00000</td>\n      <td>0.0000</td>\n      <td>0.0000</td>\n      <td>5.0</td>\n      <td>22.943</td>\n    </tr>\n    <tr>\n      <th>(8.571, 12.543]</th>\n      <td>4.000000</td>\n      <td>1.000000</td>\n      <td>1.000000</td>\n      <td>1.000000</td>\n      <td>0.00000</td>\n      <td>0.0000</td>\n      <td>1.0000</td>\n      <td>8.0</td>\n      <td>84.571438</td>\n    </tr>\n    <tr>\n      <th>(12.543, 16.514]</th>\n      <td>3.000000</td>\n      <td>4.000000</td>\n      <td>1.000000</td>\n      <td>4.000000</td>\n      <td>0.00000</td>\n      <td>0.0000</td>\n      <td>1.0000</td>\n      <td>13.0</td>\n      <td>98.793385</td>\n    </tr>\n    <tr>\n      <th>(16.514, 20.486]</th>\n      <td>4.000000</td>\n      <td>6.000000</td>\n      <td>16.000000</td>\n      <td>8.000000</td>\n      <td>1.00000</td>\n      <td>2.0000</td>\n      <td>1.0000</td>\n      <td>38.0</td>\n      <td>111.601395</td>\n    </tr>\n    <tr>\n      <th>(20.486, 24.457]</th>\n      <td>1.000000</td>\n      <td>6.000000</td>\n      <td>6.000000</td>\n      <td>8.000000</td>\n      <td>3.00000</td>\n      <td>1.0000</td>\n      <td>0.0000</td>\n      <td>25.0</td>\n      <td>119.9051</td>\n    </tr>\n    <tr>\n      <th>(24.457, 28.429]</th>\n      <td>0.000000</td>\n      <td>1.000000</td>\n      <td>3.000000</td>\n      <td>2.000000</td>\n      <td>3.00000</td>\n      <td>2.0000</td>\n      <td>0.0000</td>\n      <td>11.0</td>\n      <td>153.670136</td>\n    </tr>\n    <tr>\n      <th>(28.429, 32.4]</th>\n      <td>0.000000</td>\n      <td>0.000000</td>\n      <td>0.000000</td>\n      <td>4.000000</td>\n      <td>1.00000</td>\n      <td>0.0000</td>\n      <td>0.0000</td>\n      <td>5.0</td>\n      <td>154.4172</td>\n    </tr>\n    <tr>\n      <th>$n_{DMC}$</th>\n      <td>17.000000</td>\n      <td>18.000000</td>\n      <td>27.000000</td>\n      <td>27.000000</td>\n      <td>8.00000</td>\n      <td>5.0000</td>\n      <td>3.0000</td>\n      <td>105.0</td>\n      <td></td>\n    </tr>\n    <tr>\n      <th>$\\bar{y}_{x_i}$</th>\n      <td>12.659559</td>\n      <td>18.941278</td>\n      <td>19.823833</td>\n      <td>21.147667</td>\n      <td>24.45725</td>\n      <td>22.4715</td>\n      <td>14.5285</td>\n      <td></td>\n      <td></td>\n    </tr>\n  </tbody>\n</table>\n</div>"
     },
     "execution_count": 258,
     "metadata": {},
     "output_type": "execute_result"
    }
   ],
   "source": [
    "n = []\n",
    "mean_xy = []\n",
    "mean_yx = []\n",
    "for i in range(k):\n",
    "    n.append([])\n",
    "    sum_x = 0\n",
    "    if i == 0:\n",
    "        n_temp = (data['temp'] >= interval_temp['temp'].apply(lambda x: x.left).astype('float')[i]) & (data['temp'] <= interval_temp['temp'].apply(lambda x: x.right).astype('float')[i])\n",
    "    else:\n",
    "        n_temp = (data['temp'] > interval_temp['temp'].apply(lambda x: x.left).astype('float')[i]) & (data['temp'] <= interval_temp['temp'].apply(lambda x: x.right).astype('float')[i])\n",
    "\n",
    "    for j in range(k):\n",
    "        if j == 0:\n",
    "            n_DMC = (data['DMC'] >= interval_DMC['DMC'].apply(lambda x: x.left).astype('float')[j]) & (data['DMC'] <= interval_DMC['DMC'].apply(lambda x: x.right).astype('float')[j])\n",
    "        else:\n",
    "            n_DMC = (data['DMC'] > interval_DMC['DMC'].apply(lambda x: x.left).astype('float')[j]) & (data['DMC'] <= interval_DMC['DMC'].apply(lambda x: x.right).astype('float')[j])\n",
    "        n[i].append(len(data[n_temp & n_DMC]))\n",
    "\n",
    "        sum_x += table_DMC['x_i'][j] * n[i][j]\n",
    "    mean_xy.append(sum_x)\n",
    "for j in range(k):\n",
    "    sum_y = 0\n",
    "    for i in range(k):\n",
    "        sum_y += table_temp['x_i'][i] * n[i][j]\n",
    "    mean_yx.append(sum_y)\n",
    "\n",
    "interval = pd.DataFrame(n)\n",
    "interval.index = interval_temp['temp']\n",
    "interval.columns = interval_DMC['DMC']\n",
    "mean_xy /= interval.sum(axis=1)\n",
    "mean_yx /= interval.sum()\n",
    "correlation_table = interval.copy()\n",
    "correlation_table['$n_{temp}$'] = correlation_table.sum(axis=1)\n",
    "correlation_table.loc['$n_{DMC}$']= correlation_table.sum()\n",
    "correlation_table[r'$\\bar{x}_{y_i}$'] = mean_xy\n",
    "correlation_table.loc[r'$\\bar{y}_{x_i}$']= mean_yx\n",
    "correlation_table.loc[r'$\\bar{y}_{x_i}$', r'$\\bar{x}_{y_i}$'] = correlation_table.loc[r'$\\bar{y}_{x_i}$', '$n_{temp}$'] = correlation_table.loc['$n_{DMC}$', r'$\\bar{x}_{y_i}$'] = ' '\n",
    "correlation_table"
   ],
   "metadata": {
    "collapsed": false,
    "pycharm": {
     "name": "#%%\n"
    }
   }
  },
  {
   "cell_type": "markdown",
   "source": [
    "Вычислим внутригрупповую, межгрупповую и общую дисперсии для признаков:"
   ],
   "metadata": {
    "collapsed": false
   }
  },
  {
   "cell_type": "code",
   "execution_count": 259,
   "outputs": [
    {
     "data": {
      "text/plain": "     $D_{общ}$   $D_{внгр}$  $D_{межгр}$\nx  3812.921565  3037.522878   775.398687\ny    30.470993    18.929338    11.541655",
      "text/html": "<div>\n<style scoped>\n    .dataframe tbody tr th:only-of-type {\n        vertical-align: middle;\n    }\n\n    .dataframe tbody tr th {\n        vertical-align: top;\n    }\n\n    .dataframe thead th {\n        text-align: right;\n    }\n</style>\n<table border=\"1\" class=\"dataframe\">\n  <thead>\n    <tr style=\"text-align: right;\">\n      <th></th>\n      <th>$D_{общ}$</th>\n      <th>$D_{внгр}$</th>\n      <th>$D_{межгр}$</th>\n    </tr>\n  </thead>\n  <tbody>\n    <tr>\n      <th>x</th>\n      <td>3812.921565</td>\n      <td>3037.522878</td>\n      <td>775.398687</td>\n    </tr>\n    <tr>\n      <th>y</th>\n      <td>30.470993</td>\n      <td>18.929338</td>\n      <td>11.541655</td>\n    </tr>\n  </tbody>\n</table>\n</div>"
     },
     "execution_count": 259,
     "metadata": {},
     "output_type": "execute_result"
    }
   ],
   "source": [
    "x_DMC = table_DMC.apply(lambda i: i['n_i']*(i['x_i']), axis = 1).sum()/105\n",
    "x_temp = table_temp.apply(lambda i: i['n_i']*(i['x_i']), axis = 1).sum()/105\n",
    "D_DMC = table_DMC.apply(lambda i: (i['x_i'] - x_DMC) ** 2 * i['n_i'], axis=1).sum() / 104\n",
    "D_temp = table_temp.apply(lambda i: (i['x_i'] - x_temp) ** 2 * i['n_i'], axis=1).sum() / 104\n",
    "Dx, Dy = 0, 0\n",
    "for j in range(k):\n",
    "    for i in range(k):\n",
    "        Dx += (table_DMC['x_i'][j] - mean_xy.iloc[i]) ** 2 * interval.iloc[i, j]\n",
    "        Dy += (table_temp['x_i'][j] - mean_yx.iloc[i]) ** 2 * interval.iloc[j, i]\n",
    "Dx /= 105\n",
    "Dy /= 105\n",
    "D = pd.DataFrame(columns=['$D_{общ}$', '$D_{внгр}$', '$D_{межгр}$'])\n",
    "D.loc['x'] = [D_DMC, Dx, D_DMC - Dx]\n",
    "D.loc['y'] = [D_temp, Dy, D_temp - Dy]\n",
    "D"
   ],
   "metadata": {
    "collapsed": false,
    "pycharm": {
     "name": "#%%\n"
    }
   }
  },
  {
   "cell_type": "markdown",
   "source": [
    "Определим выборочное корреляционное отношение:"
   ],
   "metadata": {
    "collapsed": false
   }
  },
  {
   "cell_type": "code",
   "execution_count": 260,
   "outputs": [
    {
     "data": {
      "text/plain": "      $\\bar{\\eta}$  $|r_{xy}|$\nDMC       0.450955    0.417738\ntemp      0.615447    0.417738",
      "text/html": "<div>\n<style scoped>\n    .dataframe tbody tr th:only-of-type {\n        vertical-align: middle;\n    }\n\n    .dataframe tbody tr th {\n        vertical-align: top;\n    }\n\n    .dataframe thead th {\n        text-align: right;\n    }\n</style>\n<table border=\"1\" class=\"dataframe\">\n  <thead>\n    <tr style=\"text-align: right;\">\n      <th></th>\n      <th>$\\bar{\\eta}$</th>\n      <th>$|r_{xy}|$</th>\n    </tr>\n  </thead>\n  <tbody>\n    <tr>\n      <th>DMC</th>\n      <td>0.450955</td>\n      <td>0.417738</td>\n    </tr>\n    <tr>\n      <th>temp</th>\n      <td>0.615447</td>\n      <td>0.417738</td>\n    </tr>\n  </tbody>\n</table>\n</div>"
     },
     "execution_count": 260,
     "metadata": {},
     "output_type": "execute_result"
    }
   ],
   "source": [
    "eta_xy = math.sqrt(D_DMC - Dx) / math.sqrt(D_DMC)\n",
    "eta_yx = math.sqrt(D_temp - Dy) / math.sqrt(D_temp)\n",
    "eta = pd.DataFrame(columns=[r'$\\bar{\\eta}$', '$|r_{xy}|$'])\n",
    "eta.loc['DMC'] = [eta_xy, abs(r_xy)]\n",
    "eta.loc['temp'] = [eta_yx, abs(r_xy)]\n",
    "eta"
   ],
   "metadata": {
    "collapsed": false,
    "pycharm": {
     "name": "#%%\n"
    }
   }
  },
  {
   "cell_type": "markdown",
   "source": [
    " Неравенства $\\eta_{xy} \\geq |r_{xy}|$ и $\\eta_{yx} \\geq |r_{xy}|$ выполняются. По полученным результатам можно сделать вывод, что случайные величины связанны корреляционной зависимостью, характер которой неопределен (не линейная и не функциональная)."
   ],
   "metadata": {
    "collapsed": false
   }
  },
  {
   "cell_type": "markdown",
   "source": [
    "### Построение корреляционных кривых\n",
    "Для заданной выборки построим корреляционную кривую параболического вида $y = \\beta_2 x^2 + \\beta_1 x + \\beta_0 = -0.000415x^2 + 0.14204x + 10.270382$:"
   ],
   "metadata": {
    "collapsed": false
   }
  },
  {
   "cell_type": "code",
   "execution_count": 266,
   "outputs": [
    {
     "data": {
      "text/plain": "<Figure size 432x288 with 1 Axes>",
      "image/png": "[encoded data removed]"
     },
     "metadata": {
      "needs_background": "light"
     },
     "output_type": "display_data"
    }
   ],
   "source": [
    "x = data_DMC['DMC'].values\n",
    "y = data_temp['temp'].values\n",
    "beta = lstsq(vstack((x ** 2, x, ones(len(x)))).T, y)[0]\n",
    "xx = linspace(0, 300, 500)\n",
    "plt.scatter(data_DMC['DMC'], data_temp['temp'], color = 'red', marker = 'o', alpha = 0.3, label = 'Выборка')\n",
    "plt.plot(xx, beta[0] * xx ** 2 + beta[1] * xx + beta[2],'aqua',lw=1, label='Корреляционная кривая')\n",
    "plt.xlabel('DMC')\n",
    "plt.ylabel('temp')\n",
    "plt.legend()\n",
    "plt.title('Корреляционная кривая параболического вида \\n $y = -0.000415x^2 + 0.14204x + 10.270382$')\n",
    "plt.show()"
   ],
   "metadata": {
    "collapsed": false,
    "pycharm": {
     "name": "#%%\n"
    }
   }
  },
  {
   "cell_type": "markdown",
   "source": [
    "Вычислим показатели качества регрессии: теоретический коэффициент детерминации $R^2$, среднюю квадратическую ошибку $S_\\epsilon$, среднюю ошибку аппроксимации (приближения) $A$."
   ],
   "metadata": {
    "collapsed": false
   }
  },
  {
   "cell_type": "code",
   "execution_count": 246,
   "outputs": [
    {
     "data": {
      "text/plain": "      $R^2$  $S_{\\epsilon}$       $A$\n0  0.433115       21.466854  3.671177",
      "text/html": "<div>\n<style scoped>\n    .dataframe tbody tr th:only-of-type {\n        vertical-align: middle;\n    }\n\n    .dataframe tbody tr th {\n        vertical-align: top;\n    }\n\n    .dataframe thead th {\n        text-align: right;\n    }\n</style>\n<table border=\"1\" class=\"dataframe\">\n  <thead>\n    <tr style=\"text-align: right;\">\n      <th></th>\n      <th>$R^2$</th>\n      <th>$S_{\\epsilon}$</th>\n      <th>$A$</th>\n    </tr>\n  </thead>\n  <tbody>\n    <tr>\n      <th>0</th>\n      <td>0.433115</td>\n      <td>21.466854</td>\n      <td>3.671177</td>\n    </tr>\n  </tbody>\n</table>\n</div>"
     },
     "execution_count": 246,
     "metadata": {},
     "output_type": "execute_result"
    }
   ],
   "source": [
    "A = 0\n",
    "S_eps = 0\n",
    "for i in range(len(x)):\n",
    "    S_eps += (y[i] - (beta[0] * x[i] **2 + beta[1] * x[i] + beta[2])) ** 2\n",
    "    A += abs(y[i] - (beta[0] * x[i] **2 + beta[1] * x[i] + beta[2]))\n",
    "values = pd.DataFrame(columns=['$R^2$', '$S_{\\epsilon}$', '$A$'])\n",
    "values.loc[0] = [1 - (S_eps / S_x), S_eps / 104, A / 105]\n",
    "values"
   ],
   "metadata": {
    "collapsed": false,
    "pycharm": {
     "name": "#%%\n"
    }
   }
  },
  {
   "cell_type": "markdown",
   "source": [
    "Для заданной выборки построим корреляционную кривую дробно-рационального вида: $y = \\frac{x}{\\beta_1x+\\beta_0} = \\frac{x}{0.04315x+0.61973}$"
   ],
   "metadata": {
    "collapsed": false
   }
  },
  {
   "cell_type": "code",
   "execution_count": 267,
   "outputs": [
    {
     "data": {
      "text/plain": "<Figure size 432x288 with 1 Axes>",
      "image/png": "[encoded data removed]"
     },
     "metadata": {
      "needs_background": "light"
     },
     "output_type": "display_data"
    }
   ],
   "source": [
    "def func(x, beta_1, beta_0):\n",
    "    return x / (beta_1*x +beta_0)\n",
    "\n",
    "\n",
    "beta, _ = curve_fit(func, x, y)\n",
    "plt.scatter(data_DMC['DMC'], data_temp['temp'], color = 'red', marker = 'o', alpha = 0.3, label = 'Выборка')\n",
    "plt.plot(xx, func(xx, beta[0], beta[1]),'aqua',lw=1, label='Корреляционная кривая')\n",
    "plt.xlabel('DMC')\n",
    "plt.ylabel('temp')\n",
    "plt.legend()\n",
    "plt.title(r'Корреляционная кривая дробно-рационального вида $y = \\frac{x}{0.04315x+0.61973}$')\n",
    "plt.show()"
   ],
   "metadata": {
    "collapsed": false,
    "pycharm": {
     "name": "#%%\n"
    }
   }
  },
  {
   "cell_type": "markdown",
   "source": [
    "Вычислим показатели качества регрессии: теоретический коэффициент детерминации $R^2$, среднюю квадратическую ошибку $S_\\epsilon$, среднюю ошибку аппроксимации (приближения) $A$."
   ],
   "metadata": {
    "collapsed": false
   }
  },
  {
   "cell_type": "code",
   "execution_count": 268,
   "outputs": [
    {
     "data": {
      "text/plain": "      $R^2$  $S_{\\epsilon}$      $A$\n0  0.368872        23.89961  3.73689",
      "text/html": "<div>\n<style scoped>\n    .dataframe tbody tr th:only-of-type {\n        vertical-align: middle;\n    }\n\n    .dataframe tbody tr th {\n        vertical-align: top;\n    }\n\n    .dataframe thead th {\n        text-align: right;\n    }\n</style>\n<table border=\"1\" class=\"dataframe\">\n  <thead>\n    <tr style=\"text-align: right;\">\n      <th></th>\n      <th>$R^2$</th>\n      <th>$S_{\\epsilon}$</th>\n      <th>$A$</th>\n    </tr>\n  </thead>\n  <tbody>\n    <tr>\n      <th>0</th>\n      <td>0.368872</td>\n      <td>23.89961</td>\n      <td>3.73689</td>\n    </tr>\n  </tbody>\n</table>\n</div>"
     },
     "execution_count": 268,
     "metadata": {},
     "output_type": "execute_result"
    }
   ],
   "source": [
    "A = 0\n",
    "S_eps = 0\n",
    "for i in range(len(x)):\n",
    "    S_eps += (y[i] - x[i]/(beta[0]*x[i]+beta[1])) ** 2\n",
    "    A += abs(y[i] - x[i]/(beta[0]*x[i]+beta[1]))\n",
    "values = pd.DataFrame(columns=['$R^2$', '$S_{\\epsilon}$', '$A$'])\n",
    "values.loc[0] = [1 - (S_eps / S_x), S_eps / 104, A / 105]\n",
    "values"
   ],
   "metadata": {
    "collapsed": false,
    "pycharm": {
     "name": "#%%\n"
    }
   }
  },
  {
   "cell_type": "markdown",
   "source": [
    "По результатам построенных графиков корреляционных кривых и вычисленных показателях качества регрессии, можно сделать вывод, что корреляционная кривая параболического вида немного лучше характеризует корреляционную зависимость между признаками. Но корреляционная зависимость между признаками не может быть выражена параболической или дробно-рациональной функцией."
   ],
   "metadata": {
    "collapsed": false
   }
  },
  {
   "cell_type": "markdown",
   "metadata": {},
   "source": [
    "## Выводы\n",
    "\n",
    "В процессе выполнения лабораторной работы двумерная выборка была отображена на графике, для заданной выборки построены уравнения среднеквадратической регрессии $x$ на $y$ и $y$ на $x$, отображены построенные кривые на множестве выборки. Была составлена корреляционная таблица для нахождения выборочного корреляционного отношения, вычислены внутригрупповые, межгрупповые и общие дисперсии, полученные результаты удовлетворяют свойствам выборочного корреляционного отношения. Для заданной выборки построены корреляционные кривые двух видов - параболического и дробно-рационального, корреляционная зависимость между признаками не может быть выражена построенными кривыми."
   ]
  }
 ],
 "metadata": {
  "kernelspec": {
   "display_name": "Python 3",
   "language": "python",
   "name": "python3"
  },
  "language_info": {
   "codemirror_mode": {
    "name": "ipython",
    "version": 3
   },
   "file_extension": ".py",
   "mimetype": "text/x-python",
   "name": "python",
   "nbconvert_exporter": "python",
   "pygments_lexer": "ipython3",
   "version": "3.8.10"
  }
 },
 "nbformat": 4,
 "nbformat_minor": 4
}