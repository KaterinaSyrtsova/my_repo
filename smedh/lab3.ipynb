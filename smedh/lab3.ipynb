{
 "cells": [
  {
   "cell_type": "markdown",
   "metadata": {},
   "source": [
    "# Лабораторная работа №3: Обработка выборочных данных. Нахождение интервальных оценок параметров распределения. Проверка статистической гипотезы о нормальном распределении\n",
    "\n",
    "Выполнили студентки гр. 8383 Ишанина Людмила и Сырцова Екатерина. Вариант №6."
   ]
  },
  {
   "cell_type": "markdown",
   "metadata": {},
   "source": [
    "## Цель работы\n",
    "\n",
    "Получение практических навыков вычисления интервальных статистических оценок параметров распределения выборочных данных и проверки «справедливости» статистических гипотез."
   ]
  },
  {
   "cell_type": "markdown",
   "metadata": {},
   "source": [
    "## Основные теоретические положения\n",
    "\n",
    "**Интервальной называется статистическая оценка**, которая задаётся двумя числами – концами интервала (в котором может находится значение параметра $\\Theta$).\n",
    "\n",
    "**Точностью** $\\Theta^*$ - статистической оценки параметра $\\Theta$ называется значение $\\delta$, удовлетворяющее неравенству: $\\delta > |\\Theta^* - \\Theta|$. Чем меньше значение $\\delta$, тем точнее оченка $\\Theta^*$.\n",
    "\n",
    "**Надежностью (доверительной точностью) оценки** $\\Theta^*$ называется вероятность $\\gamma$, с которой выполняется неравенство: $\\gamma = P\\{\\delta > |\\Theta - \\Theta^*|\\}$ или $\\gamma = P\\{\\Theta^* - \\delta < \\Theta < \\Theta^* + \\delta\\}$.\n",
    "\n",
    "**Доверительный интервал** $(\\Theta^* - \\delta < \\Theta < \\Theta^* + \\delta)$ с вероятностью $\\gamma$ содержит в себе истинное значение оцениваемого параметра $\\Theta$.\n",
    "\n",
    "**Доверительный интервал для оценки математического ожидания при неизвестном СКО**. Требуемый доверительный интервал, покрывающий значение параметра $a$ с надежностью $\\gamma$: $(\\bar{x_в} - t_{\\gamma} \\frac{S}{\\sqrt{N}}, \\bar{x_в} + t_{\\gamma} \\frac{S}{\\sqrt{N}})$, где значение $t_{\\gamma}$ может быть определено по заданным значениям $\\gamma$ и $N$ по соответствующей таблице.\n",
    "\n",
    "**Доверительный интервал для оценки среднеквадратического отклонения (СКО)**. Требуемый доверительный интервал, покрывающий значение параметра $\\sigma$ с надежностью $\\gamma$: $(S(1 - q), S(1 + q))$, где значение $q$ может быть определено по заданным значениям $\\gamma$ и $N$ по соответствующей таблице.\n",
    "\n",
    "**Статистической гипотезой** называют гипотезу о виде неизвестного распределения исследуемой случайной величины или о значении параметров известных распределений.\n",
    "\n",
    "Выдвинутую гипотезу называют **нулевой** или **основной гипотезой** и обозначают $H_0$.\n",
    "\n",
    "**Конкурирующей** или **альтернативной** называют гипотезу $H_1$, которая противоречит основной гипотезе.\n",
    "\n",
    "**Ошибка первого рода** состоит в том, что нулевая гипотеза отвергается, хотя она верна, $\\alpha$ - вероятность ошибки первого рода.\n",
    "\n",
    "**Ошибка второго рода** состоит в том, что нулевая гипотеза принимается, хотя она неверна, $\\beta$ - вероятность ошибки второго рода.\n",
    "\n",
    "Величину $1 - \\beta$ - вероятность того, что гипотеза отвергается когла она неверна, называют **мощностью критерия**.\n",
    "\n",
    "Для проверки статистических гипотез предлагаются различные критерии, которые представляют собой значения случайных величин, имеющих те или иные известные законы распределения.\n",
    "\n",
    "При проверке статистических гипотез на основе выборочных данных вычисляются значения этих случайных величин (**наблюденные значения**), которые сопоставляются с некоторыми, так называемыми, **критическими** (зависящими от заданного уровня значимости $\\alpha$) **значениями** этих случайных величин. На основании этого сопоставления принимается решение о принятии или не принятии нулевой гипотезы.\n",
    "\n",
    "Область принятия гипотезы и критическая область разделены точками, которые называются **критическими значениями критерия** $K_{кр}$.\n",
    "\n",
    "Для каждого критерия существуют таблицы критических значений ии правила, по которым их можно рассчитать. Область непринятия гипотезы может быть односторонней (правосторонней или левосторонней) и двустороней.\n",
    "\n",
    "**Правосторонней** называют критическую область, определяемую неравенством $K_{набл} > K_{кр}$.\n",
    "\n",
    "**Левосторонней** называют критическую область, определяемую неравенством $K_{набл} < K_{кр}$.\n",
    "\n",
    "**Двусторонней** называют критическую область, определяемую неравенствами $K_{набл} < K_{кр1}$ и $K_{набл} > K_{кр2}$.\n",
    "\n",
    "**Проверка статистической гипотезы о законе распределения**\n",
    "\n",
    "В качестве критерия проверки гипотезы будем использовать так называемый критерий $\\chi^2$ или **критерий Пирсона**. Это правосторонний критерий.\n",
    "Согласно этому критерию на основании выборочных данных вычисляется \"наблюденное\" значение случайной величины $\\chi^2$:\n",
    "$\\chi_{набл}^2 = \\sum_{i=1}^K \\frac{(n_i-n_i')^2}{n'}$,\n",
    "здесь $n_i'$ - теоретические частоты - частоты, с которыми нормальо распределенная величина с параметрами $\\bar{x_в}$ и $S$ попадала бы в $i$-й интервал интервального ряда при проведении $N$ испытаний.\n",
    "\n",
    "Для вычисления значения $\\chi^2_{набл}$ необходимо вычислить значения теоретических частот $n_i'$:\n",
    "1. Пересчитываются границы интервалов интервального ряда. При этом левая граница первого интервала $z_1=-\\infty$, а правая граница последнего интервала $z_{K+1} = +\\infty$. Остальные значения вычисляются по формуле: $z_i = \\frac{x_i-\\bar{x_в}}{S}, i=2,3,\\dots,K$.\n",
    "Вычисляются вероятности попадания случайной величины в каждый $i$-й интервал интервального ряда:\n",
    "2. Вычисляются вероятности попадания случайной величины в каждый интервал интервального ряда $p_i = \\Phi(z_{i+1}) - \\Phi(z_i), i=1,2,3,\\dots,K$.\n",
    "Нужно учитывать нечетность функции Лапласа и то, что $\\Phi(-\\infty) = -0.5, \\Phi(+\\infty) = 0.5$.\n",
    "3. Вычисляются значения теоретических частот: $n_i' = N*p_i, i=1,2,3,\\dots,K$.\n"
   ]
  },
  {
   "cell_type": "markdown",
   "metadata": {},
   "source": [
    "## Постановка задачи\n",
    "\n",
    "Для заданной надежности определить (на основании выборочных данных и результатов выполнения практической работы №2) границы доверительных интервалов для математического ожидания и среднеквадратичного отклонения случайной величины. Проверить гипотезу о нормальном распределении исследуемой случайной величины с помощью критерия Пирсона $\\chi^2$. Дать содержательную интерпретацию полученным результатам.\n",
    "\n",
    "### Порядок выполнения работы\n",
    "\n",
    "1. Вычислить точность и доверительный интервал для математического ожидания при неизвестном среднеквадратичном отклонении при заданном объёме выборки для доверительной точности $\\gamma \\in \\{0.95, 0.99\\}$. Сделать выводы.\n",
    "2. Вычисления границ доверительного интервала для среднеквадратичного отклонения определить значение $q$ при заданных $\\gamma$ и $N$. Построить доверительные интервалы, сделать выводы.\n",
    "3. Проверить гипотезу о нормальности заданного распределения с помощью критерия $\\chi^2$ (Пирсона). Для этого необходимо найти теоретические частоты и вычислить наблюдаемое значение критерия. Далее по заданному уровню значимости $\\alpha = 0.05$ и числу степеней свободы найти критическую точку и сравнить с наблюдаемым значением. Сделать выводы."
   ]
  },
  {
   "cell_type": "markdown",
   "metadata": {},
   "source": [
    "## Выполнение работы\n",
    "\n",
    "### Вычисление точности и доверительного интервала для математического ожидания при неизвестном среднеквадратичном отклонении при заданном объёме выборки для доверительной точности $\\gamma \\in \\{0.95, 0.99\\}$"
   ]
  },
  {
   "cell_type": "code",
   "execution_count": 2,
   "metadata": {},
   "outputs": [
    {
     "data": {
      "text/plain": "  признак       $x_в$        $D_в$\n0     DMC  112.157510  3812.921565\n1    temp   19.180829    30.470993",
      "text/html": "<div>\n<style scoped>\n    .dataframe tbody tr th:only-of-type {\n        vertical-align: middle;\n    }\n\n    .dataframe tbody tr th {\n        vertical-align: top;\n    }\n\n    .dataframe thead th {\n        text-align: right;\n    }\n</style>\n<table border=\"1\" class=\"dataframe\">\n  <thead>\n    <tr style=\"text-align: right;\">\n      <th></th>\n      <th>признак</th>\n      <th>$x_в$</th>\n      <th>$D_в$</th>\n    </tr>\n  </thead>\n  <tbody>\n    <tr>\n      <th>0</th>\n      <td>DMC</td>\n      <td>112.157510</td>\n      <td>3812.921565</td>\n    </tr>\n    <tr>\n      <th>1</th>\n      <td>temp</td>\n      <td>19.180829</td>\n      <td>30.470993</td>\n    </tr>\n  </tbody>\n</table>\n</div>"
     },
     "execution_count": 2,
     "metadata": {},
     "output_type": "execute_result"
    }
   ],
   "source": [
    "import pandas as pd\n",
    "import numpy as np\n",
    "import math\n",
    "import scipy.stats as sps\n",
    "from scipy import interpolate\n",
    "from scipy.special import erf\n",
    "import warnings\n",
    "warnings.filterwarnings('ignore')\n",
    "\n",
    "data = pd.read_csv('forestfires_105.csv', usecols=['DMC', 'temp'], sep=',')\n",
    "\n",
    "data_DMC = data.loc[:,['DMC']]\n",
    "ranked_DMC = data_DMC.sort_values(by='DMC')\n",
    "k = 1 + math.floor(3.322 * math.log10(ranked_DMC.size))\n",
    "h_DMC = (ranked_DMC['DMC'].max() - ranked_DMC['DMC'].min()) / k\n",
    "points = np.concatenate((np.arange(ranked_DMC['DMC'].min(), ranked_DMC['DMC'].max(), h_DMC), [ranked_DMC['DMC'].max()]))\n",
    "interval_DMC = ranked_DMC.groupby(pd.cut(ranked_DMC['DMC'], points)).size().reset_index(name='frequency')\n",
    "interval_DMC['frequency'][0] += 1\n",
    "table_DMC = pd.DataFrame()\n",
    "table_DMC['DMC'] = interval_DMC['DMC']\n",
    "table_DMC['x_i'] = interval_DMC['DMC'].apply(lambda x: x.mid).astype('float')\n",
    "table_DMC['n_i'] = interval_DMC['frequency']\n",
    "x_DMC = table_DMC.apply(lambda i: i['n_i'] * (i['x_i']), axis=1).sum() / 105\n",
    "\n",
    "data_temp = data.loc[:,['temp']]\n",
    "ranked_temp = data_temp.sort_values(by='temp')\n",
    "h_temp = (ranked_temp['temp'].max() - ranked_temp['temp'].min()) / k\n",
    "points = np.concatenate((np.arange(ranked_temp['temp'].min(), ranked_temp['temp'].max(), h_temp), [ranked_temp['temp'].max()]))\n",
    "interval_temp = ranked_temp.groupby(pd.cut(ranked_temp['temp'], points)).size().reset_index(name='frequency')\n",
    "interval_temp['frequency'][0] += 1\n",
    "table_temp = pd.DataFrame()\n",
    "table_temp['temp'] = interval_temp['temp']\n",
    "table_temp['x_i'] = interval_temp['temp'].apply(lambda x: x.mid).astype('float')\n",
    "table_temp['n_i'] = interval_temp['frequency']\n",
    "x_temp = table_temp.apply(lambda i: i['n_i'] * (i['x_i']), axis=1).sum() / 105\n",
    "\n",
    "table = pd.DataFrame(columns=['признак', '$x_в$', '$D_в$'])\n",
    "table.loc[0] = ['DMC',\n",
    "                      table_DMC.apply(lambda i: i['n_i'] * (i['x_i']), axis=1).sum() / 105,\n",
    "                      table_DMC.apply(lambda i: (i['x_i'] - x_DMC) ** 2 * i['n_i'], axis=1).sum() / 104]\n",
    "table.loc[1] = ['temp',\n",
    "                      table_temp.apply(lambda i: i['n_i'] * (i['x_i']), axis=1).sum() / 105,\n",
    "                      table_temp.apply(lambda i: (i['x_i'] - x_temp) ** 2 * i['n_i'], axis=1).sum() / 104]\n",
    "table"
   ]
  },
  {
   "cell_type": "markdown",
   "source": [
    "Вычислим точности и доверительные интервалы для математического ожидания при неизвестном среднеквадратичном отклонении при заданном объёме выборки для доверительной точности $\\gamma \\in \\{0.95, 0.99\\}$:"
   ],
   "metadata": {
    "collapsed": false
   }
  },
  {
   "cell_type": "code",
   "execution_count": 3,
   "outputs": [
    {
     "data": {
      "text/plain": "  признак  $\\gamma$  $\\Theta^*$    доверительный интервал\n0     DMC      0.95   11.949926  (100.207583, 124.107436)\n2    temp      0.95    1.068266    (18.112562, 20.249095)\n1     DMC      0.99   15.811999   (96.345510, 127.969509)\n3    temp      0.99    1.413517    (17.767311, 20.594346)",
      "text/html": "<div>\n<style scoped>\n    .dataframe tbody tr th:only-of-type {\n        vertical-align: middle;\n    }\n\n    .dataframe tbody tr th {\n        vertical-align: top;\n    }\n\n    .dataframe thead th {\n        text-align: right;\n    }\n</style>\n<table border=\"1\" class=\"dataframe\">\n  <thead>\n    <tr style=\"text-align: right;\">\n      <th></th>\n      <th>признак</th>\n      <th>$\\gamma$</th>\n      <th>$\\Theta^*$</th>\n      <th>доверительный интервал</th>\n    </tr>\n  </thead>\n  <tbody>\n    <tr>\n      <th>0</th>\n      <td>DMC</td>\n      <td>0.95</td>\n      <td>11.949926</td>\n      <td>(100.207583, 124.107436)</td>\n    </tr>\n    <tr>\n      <th>2</th>\n      <td>temp</td>\n      <td>0.95</td>\n      <td>1.068266</td>\n      <td>(18.112562, 20.249095)</td>\n    </tr>\n    <tr>\n      <th>1</th>\n      <td>DMC</td>\n      <td>0.99</td>\n      <td>15.811999</td>\n      <td>(96.345510, 127.969509)</td>\n    </tr>\n    <tr>\n      <th>3</th>\n      <td>temp</td>\n      <td>0.99</td>\n      <td>1.413517</td>\n      <td>(17.767311, 20.594346)</td>\n    </tr>\n  </tbody>\n</table>\n</div>"
     },
     "execution_count": 3,
     "metadata": {},
     "output_type": "execute_result"
    }
   ],
   "source": [
    "table_1 = pd.DataFrame(columns=['признак','$\\gamma$', '$\\Theta^*$', 'доверительный интервал'])\n",
    "gamma = [0.95, 0.99]\n",
    "for i in range(len(gamma)):\n",
    "    delta = sps.t.ppf((gamma[i] + 1) / 2, 104) * np.sqrt(table['$D_в$'][0] / 105)\n",
    "    table_1.loc[i] = ['DMC', gamma[i], delta,\n",
    "                      \"(\" + format(table['$x_в$'][0] - delta, '.6f') + \", \" + format(table['$x_в$'][0] + delta, '.6f') + \")\"]\n",
    "    delta = sps.t.ppf((gamma[i] + 1) / 2, 104) * np.sqrt(table['$D_в$'][1] / 105)\n",
    "    table_1.loc[i+2] = ['temp', gamma[i], delta,\n",
    "                      \"(\" + format(table['$x_в$'][1] - delta, '.6f') + \", \" + format(table['$x_в$'][1] + delta, '.6f') + \")\"]\n",
    "table_1"
   ],
   "metadata": {
    "collapsed": false,
    "pycharm": {
     "name": "#%%\n"
    }
   }
  },
  {
   "cell_type": "markdown",
   "source": [
    "По полученным результатам можно сделать вывод, что при увеличении доверительной точности увеличивается точность и доверительный интервал для математического ожидания при неизвестном среднеквадратичном отклонении и заданном объёме выборки.\n",
    "\n",
    "Значение точности и доверительный интервал для первого признака больше, чем для второго, т.к. оно пропорционально значению исправленного выборочного СКО $S$."
   ],
   "metadata": {
    "collapsed": false
   }
  },
  {
   "cell_type": "markdown",
   "source": [
    "### Вычисление границ доверительного интервала для среднеквадратичного отклонения определить значение $q$ при заданных $\\gamma$ и $N$.\n",
    "\n",
    "Вычислим значение $q$ при заданных значениях $\\gamma \\in \\{0.95, 0.99\\}$ и $N = 105$ с помощью интерполяции:"
   ],
   "metadata": {
    "collapsed": false
   }
  },
  {
   "cell_type": "code",
   "execution_count": 4,
   "outputs": [
    {
     "data": {
      "text/plain": "[0.14, 0.193]"
     },
     "execution_count": 4,
     "metadata": {},
     "output_type": "execute_result"
    }
   ],
   "source": [
    "n = [5,6,7,8,9,10,11,12,13,14,15,16,17,18,19,20,25,30,35,40,45,50,60,70,80,90,100,150,200,250]\n",
    "q_95 = [1.37,1.09,0.92,0.80,0.71,0.65,0.59,0.55,0.52,0.48,0.46,0.44,0.42,0.40,0.39,0.37,0.32,0.28,0.26,0.24,0.22,0.21,0.188,0.174,0.161,0.151,0.143,0.115,0.090,0.098]\n",
    "q_99 = [2.67,2.01,1.62,1.38,1.20,1.08,0.98,0.90,0.83,0.78,0.73,0.70,0.66,0.63,0.60,0.58,0.49,0.43,0.38,0.35,0.32,0.30,0.269,0.245,0.226,0.211,0.198,0.160,0.136,0.120]\n",
    "f_95 = interpolate.interp1d(n, q_95, kind = 'cubic')\n",
    "f_99 = interpolate.interp1d(n, q_99, kind = 'cubic')\n",
    "q = [float(format(f_95(104), '.3f')), float(format(f_99(104), '.3f'))]\n",
    "q"
   ],
   "metadata": {
    "collapsed": false,
    "pycharm": {
     "name": "#%%\n"
    }
   }
  },
  {
   "cell_type": "markdown",
   "source": [
    "Вычислим границы доверительных интервалов для среднеквадратичного отклонения:"
   ],
   "metadata": {
    "collapsed": false
   }
  },
  {
   "cell_type": "code",
   "execution_count": 5,
   "outputs": [
    {
     "data": {
      "text/plain": "  признак  $\\gamma$  доверительный интервал\n0     DMC      0.95  (53.104019, 70.393699)\n2    temp      0.95    (4.747246, 6.292861)\n1     DMC      0.99  (49.831329, 73.666389)\n3    temp      0.99    (4.454683, 6.585424)",
      "text/html": "<div>\n<style scoped>\n    .dataframe tbody tr th:only-of-type {\n        vertical-align: middle;\n    }\n\n    .dataframe tbody tr th {\n        vertical-align: top;\n    }\n\n    .dataframe thead th {\n        text-align: right;\n    }\n</style>\n<table border=\"1\" class=\"dataframe\">\n  <thead>\n    <tr style=\"text-align: right;\">\n      <th></th>\n      <th>признак</th>\n      <th>$\\gamma$</th>\n      <th>доверительный интервал</th>\n    </tr>\n  </thead>\n  <tbody>\n    <tr>\n      <th>0</th>\n      <td>DMC</td>\n      <td>0.95</td>\n      <td>(53.104019, 70.393699)</td>\n    </tr>\n    <tr>\n      <th>2</th>\n      <td>temp</td>\n      <td>0.95</td>\n      <td>(4.747246, 6.292861)</td>\n    </tr>\n    <tr>\n      <th>1</th>\n      <td>DMC</td>\n      <td>0.99</td>\n      <td>(49.831329, 73.666389)</td>\n    </tr>\n    <tr>\n      <th>3</th>\n      <td>temp</td>\n      <td>0.99</td>\n      <td>(4.454683, 6.585424)</td>\n    </tr>\n  </tbody>\n</table>\n</div>"
     },
     "execution_count": 5,
     "metadata": {},
     "output_type": "execute_result"
    }
   ],
   "source": [
    "table_2 = pd.DataFrame(columns=['признак', '$\\gamma$', 'доверительный интервал'])\n",
    "for i in range(len(q)):\n",
    "    table_2.loc[i] = ['DMC', gamma[i],\n",
    "                  \"(\" + format(math.sqrt(table['$D_в$'][0]) * (1 - q[i]), '.6f') + \", \" + format(math.sqrt(table['$D_в$'][0]) * (1 + q[i]), '.6f') + \")\"]\n",
    "    table_2.loc[i+2] = ['temp',gamma[i],\n",
    "                  \"(\" + format(math.sqrt(table['$D_в$'][1]) * (1 - q[i]), '.6f') + \", \" + format(math.sqrt(table['$D_в$'][1]) * (1 + q[i]), '.6f') + \")\"]\n",
    "\n",
    "table_2"
   ],
   "metadata": {
    "collapsed": false,
    "pycharm": {
     "name": "#%%\n"
    }
   }
  },
  {
   "cell_type": "markdown",
   "source": [
    "По полученным результатам можно сдеалать вывод, что при увеличении доверительной точности увеличивается доверительный интервал для среднеквадратичного отклонения.\n",
    "\n",
    "Доверительный интервал для первого признака больше, чем для второго, т.к. он пропорционален значению исправленного выборочноего СКО $S$."
   ],
   "metadata": {
    "collapsed": false
   }
  },
  {
   "cell_type": "markdown",
   "source": [
    "### Проверка гипотезы о нормальности заданного распределения с помощью критерия $\\chi^2$ (Пирсона)\n",
    "\n",
    "Выдвенем основную и альтернативную гипотезы:\n",
    "$H_0$ - выборочные данные представляют значения случайной величины, распределенные по нормальному закону распределения.\n",
    "$H_1$ - выборочные данные представляют значения случайной величины, не распределенные по нормальному закону распределения.\n",
    "\n",
    "В качестве критерия проверки гипотезы будем использовать критерий Пирсона. Заданный уровень значимости $\\alpha = 0.05$, число степеней свободы $k=K-3$, где $K=7$ - количество интервалов.\n",
    "\n",
    "Область принятия гипотезы $H_0$ определяется условием: $\\chi^2_{набл} \\le \\chi^2(\\alpha,k)$\n",
    "\n",
    "Для вычисления значения $\\chi^2_{набл}$ необходимо вычислить значения теоретических частот $n_i'$:\n",
    "1. Пересчитываются границы интервалов интервального ряда. При этом левая граница первого интервала $z_1=-\\infty$, а правая граница последнего интервала $z_{K+1} = +\\infty$. Остальные значения вычисляются по формуле: $z_i = \\frac{x_i-\\bar{x_в}}{S}, i=2,3,\\dots,K$.\n",
    "Вычисляются вероятности попадания случайной величины в каждый $i$-й интервал интервального ряда:\n",
    "2. Вычисляются вероятности попадания случайной величины в каждый интервал интервального ряда $p_i = \\Phi(z_{i+1}) - \\Phi(z_i), i=1,2,3,\\dots,K$.\n",
    "Нужно учитывать нечетность функции Лапласа и то, что $\\Phi(-\\infty) = -0.5, \\Phi(+\\infty) = 0.5$.\n",
    "3. Вычисляются значения теоретических частот: $n_i' = N*p_i, i=1,2,3,\\dots,K$.\n",
    "\n",
    "Таблица для определения значения $\\chi^2_{набл}$ для каждого из интервалов первого признака:\n"
   ],
   "metadata": {
    "collapsed": false
   }
  },
  {
   "cell_type": "markdown",
   "source": [],
   "metadata": {
    "collapsed": false
   }
  },
  {
   "cell_type": "code",
   "execution_count": 6,
   "outputs": [
    {
     "data": {
      "text/plain": "     $x_i$  $x_{i+1}$  $n_i$     $z_i$  $z_{i+1}$  $\\Phi(z_i)$  \\\n0    2.400     43.486     17      -inf  -1.112110    -0.500000   \n1   43.486     84.571     18 -1.112110  -0.446753    -0.366955   \n2   84.571    125.657     27 -0.446753   0.218619    -0.172473   \n3  125.657    166.743     27  0.218619   0.883992     0.086527   \n4  166.743    207.829      8  0.883992   1.549365     0.311650   \n5  207.829    248.914      5  1.549365   2.214721     0.439353   \n6  248.914    290.000      3  2.214721        inf     0.486610   \n\n   $\\Phi(z_{i+1})$     $p_i$     $n_i'$  \n0        -0.366955  0.133045  13.969775  \n1        -0.172473  0.194481  20.420516  \n2         0.086527  0.259000  27.195011  \n3         0.311650  0.225123  23.637918  \n4         0.439353  0.127703  13.408840  \n5         0.486610  0.047257   4.962032  \n6         0.500000  0.013390   1.405909  ",
      "text/html": "<div>\n<style scoped>\n    .dataframe tbody tr th:only-of-type {\n        vertical-align: middle;\n    }\n\n    .dataframe tbody tr th {\n        vertical-align: top;\n    }\n\n    .dataframe thead th {\n        text-align: right;\n    }\n</style>\n<table border=\"1\" class=\"dataframe\">\n  <thead>\n    <tr style=\"text-align: right;\">\n      <th></th>\n      <th>$x_i$</th>\n      <th>$x_{i+1}$</th>\n      <th>$n_i$</th>\n      <th>$z_i$</th>\n      <th>$z_{i+1}$</th>\n      <th>$\\Phi(z_i)$</th>\n      <th>$\\Phi(z_{i+1})$</th>\n      <th>$p_i$</th>\n      <th>$n_i'$</th>\n    </tr>\n  </thead>\n  <tbody>\n    <tr>\n      <th>0</th>\n      <td>2.400</td>\n      <td>43.486</td>\n      <td>17</td>\n      <td>-inf</td>\n      <td>-1.112110</td>\n      <td>-0.500000</td>\n      <td>-0.366955</td>\n      <td>0.133045</td>\n      <td>13.969775</td>\n    </tr>\n    <tr>\n      <th>1</th>\n      <td>43.486</td>\n      <td>84.571</td>\n      <td>18</td>\n      <td>-1.112110</td>\n      <td>-0.446753</td>\n      <td>-0.366955</td>\n      <td>-0.172473</td>\n      <td>0.194481</td>\n      <td>20.420516</td>\n    </tr>\n    <tr>\n      <th>2</th>\n      <td>84.571</td>\n      <td>125.657</td>\n      <td>27</td>\n      <td>-0.446753</td>\n      <td>0.218619</td>\n      <td>-0.172473</td>\n      <td>0.086527</td>\n      <td>0.259000</td>\n      <td>27.195011</td>\n    </tr>\n    <tr>\n      <th>3</th>\n      <td>125.657</td>\n      <td>166.743</td>\n      <td>27</td>\n      <td>0.218619</td>\n      <td>0.883992</td>\n      <td>0.086527</td>\n      <td>0.311650</td>\n      <td>0.225123</td>\n      <td>23.637918</td>\n    </tr>\n    <tr>\n      <th>4</th>\n      <td>166.743</td>\n      <td>207.829</td>\n      <td>8</td>\n      <td>0.883992</td>\n      <td>1.549365</td>\n      <td>0.311650</td>\n      <td>0.439353</td>\n      <td>0.127703</td>\n      <td>13.408840</td>\n    </tr>\n    <tr>\n      <th>5</th>\n      <td>207.829</td>\n      <td>248.914</td>\n      <td>5</td>\n      <td>1.549365</td>\n      <td>2.214721</td>\n      <td>0.439353</td>\n      <td>0.486610</td>\n      <td>0.047257</td>\n      <td>4.962032</td>\n    </tr>\n    <tr>\n      <th>6</th>\n      <td>248.914</td>\n      <td>290.000</td>\n      <td>3</td>\n      <td>2.214721</td>\n      <td>inf</td>\n      <td>0.486610</td>\n      <td>0.500000</td>\n      <td>0.013390</td>\n      <td>1.405909</td>\n    </tr>\n  </tbody>\n</table>\n</div>"
     },
     "execution_count": 6,
     "metadata": {},
     "output_type": "execute_result"
    }
   ],
   "source": [
    "Phi = lambda x: erf(x / 2 ** 0.5) / 2\n",
    "\n",
    "table_3 = pd.DataFrame(columns=[\"$x_i$\", \"$x_{i+1}$\", \"$n_i$\", \"$z_i$\", \"$z_{i+1}$\", \"$\\Phi(z_i)$\", \"$\\Phi(z_{i+1})$\", \"$p_i$\", \"$n_i'$\"])\n",
    "table_3[\"$x_i$\"] = interval_DMC['DMC'].apply(lambda x: x.left).astype('float')\n",
    "table_3[\"$x_{i+1}$\"] = interval_DMC['DMC'].apply(lambda x: x.right).astype('float')\n",
    "table_3[\"$n_i$\"] =  table_DMC[\"n_i\"]\n",
    "table_3[\"$z_i$\"] = (table_3[\"$x_i$\"] - table[\"$x_в$\"][0]) / math.sqrt(table[\"$D_в$\"][0])\n",
    "table_3[\"$z_i$\"].iloc[0] = -math.inf\n",
    "table_3[\"$z_{i+1}$\"] = (table_3[\"$x_{i+1}$\"] - table[\"$x_в$\"][0]) / math.sqrt(table[\"$D_в$\"][0])\n",
    "table_3[\"$z_{i+1}$\"].iloc[-1] = +math.inf\n",
    "table_3[\"$\\Phi(z_i)$\"] = table_3[\"$z_i$\"].apply(lambda x: Phi(x))\n",
    "table_3[\"$\\Phi(z_{i+1})$\"] = table_3[\"$z_{i+1}$\"].apply(lambda x: Phi(x))\n",
    "table_3[\"$p_i$\"] = table_3[\"$\\Phi(z_{i+1})$\"] - table_3[\"$\\Phi(z_i)$\"]\n",
    "table_3[\"$n_i'$\"] = table_3[\"$p_i$\"] * 105\n",
    "table_3"
   ],
   "metadata": {
    "collapsed": false,
    "pycharm": {
     "name": "#%%\n"
    }
   }
  },
  {
   "cell_type": "markdown",
   "source": [
    "Определение $\\chi^2_{набл}$ для первого признака, критические точки распределения определяются по таблице \\chi^2(0.05, 4) = 9.5:"
   ],
   "metadata": {
    "collapsed": false
   }
  },
  {
   "cell_type": "code",
   "execution_count": 7,
   "outputs": [
    {
     "data": {
      "text/plain": "   $\\chi^2_{набл}$  $\\chi^2(\\{alpha},k)$\n0         0.554104                   9.5",
      "text/html": "<div>\n<style scoped>\n    .dataframe tbody tr th:only-of-type {\n        vertical-align: middle;\n    }\n\n    .dataframe tbody tr th {\n        vertical-align: top;\n    }\n\n    .dataframe thead th {\n        text-align: right;\n    }\n</style>\n<table border=\"1\" class=\"dataframe\">\n  <thead>\n    <tr style=\"text-align: right;\">\n      <th></th>\n      <th>$\\chi^2_{набл}$</th>\n      <th>$\\chi^2(\\{alpha},k)$</th>\n    </tr>\n  </thead>\n  <tbody>\n    <tr>\n      <th>0</th>\n      <td>0.554104</td>\n      <td>9.5</td>\n    </tr>\n  </tbody>\n</table>\n</div>"
     },
     "execution_count": 7,
     "metadata": {},
     "output_type": "execute_result"
    }
   ],
   "source": [
    "table_chi = pd.DataFrame(columns=[\"$\\chi^2_{набл}$\", \"$\\chi^2(\\{alpha},k)$\"])\n",
    "table_chi.loc[0] = [((table_3[\"$n_i$\"] - table_3[\"$n_i'$\"]) ** 2).sum() / 105, 9.5]\n",
    "table_chi"
   ],
   "metadata": {
    "collapsed": false,
    "pycharm": {
     "name": "#%%\n"
    }
   }
  },
  {
   "cell_type": "markdown",
   "source": [
    "$\\chi^2_{набл} \\le \\chi^2(\\alpha,k)$ - следовательно принимается нулевая гипотеза $H_0$ - выборочные данные представляют значения случайной величины, распределенные по нормальному закону распределения с уровнем значимости $\\alpha = 0.05$\n",
    "\n",
    "Таблица для определения значения $\\chi^2_{набл}$ для каждого из интервалов второго признака:"
   ],
   "metadata": {
    "collapsed": false
   }
  },
  {
   "cell_type": "code",
   "execution_count": 8,
   "outputs": [
    {
     "data": {
      "text/plain": "    $x_i$  $x_{i+1}$  $n_i$     $z_i$  $z_{i+1}$  $\\Phi(z_i)$  \\\n0   4.600      8.571      5      -inf  -1.922052    -0.500000   \n1   8.571     12.543      8 -1.922052  -1.202493    -0.472700   \n2  12.543     16.514     13 -1.202493  -0.483116    -0.385414   \n3  16.514     20.486     38 -0.483116   0.236442    -0.185493   \n4  20.486     24.457     25  0.236442   0.955819     0.093455   \n5  24.457     28.429     11  0.955819   1.675377     0.330418   \n6  28.429     32.400      5  1.675377        inf     0.453070   \n\n   $\\Phi(z_{i+1})$     $p_i$     $n_i'$  \n0        -0.472700  0.027300   2.866461  \n1        -0.385414  0.087287   9.165090  \n2        -0.185493  0.199920  20.991636  \n3         0.093455  0.278949  29.289595  \n4         0.330418  0.236963  24.881120  \n5         0.453070  0.122652  12.878433  \n6         0.500000  0.046930   4.927664  ",
      "text/html": "<div>\n<style scoped>\n    .dataframe tbody tr th:only-of-type {\n        vertical-align: middle;\n    }\n\n    .dataframe tbody tr th {\n        vertical-align: top;\n    }\n\n    .dataframe thead th {\n        text-align: right;\n    }\n</style>\n<table border=\"1\" class=\"dataframe\">\n  <thead>\n    <tr style=\"text-align: right;\">\n      <th></th>\n      <th>$x_i$</th>\n      <th>$x_{i+1}$</th>\n      <th>$n_i$</th>\n      <th>$z_i$</th>\n      <th>$z_{i+1}$</th>\n      <th>$\\Phi(z_i)$</th>\n      <th>$\\Phi(z_{i+1})$</th>\n      <th>$p_i$</th>\n      <th>$n_i'$</th>\n    </tr>\n  </thead>\n  <tbody>\n    <tr>\n      <th>0</th>\n      <td>4.600</td>\n      <td>8.571</td>\n      <td>5</td>\n      <td>-inf</td>\n      <td>-1.922052</td>\n      <td>-0.500000</td>\n      <td>-0.472700</td>\n      <td>0.027300</td>\n      <td>2.866461</td>\n    </tr>\n    <tr>\n      <th>1</th>\n      <td>8.571</td>\n      <td>12.543</td>\n      <td>8</td>\n      <td>-1.922052</td>\n      <td>-1.202493</td>\n      <td>-0.472700</td>\n      <td>-0.385414</td>\n      <td>0.087287</td>\n      <td>9.165090</td>\n    </tr>\n    <tr>\n      <th>2</th>\n      <td>12.543</td>\n      <td>16.514</td>\n      <td>13</td>\n      <td>-1.202493</td>\n      <td>-0.483116</td>\n      <td>-0.385414</td>\n      <td>-0.185493</td>\n      <td>0.199920</td>\n      <td>20.991636</td>\n    </tr>\n    <tr>\n      <th>3</th>\n      <td>16.514</td>\n      <td>20.486</td>\n      <td>38</td>\n      <td>-0.483116</td>\n      <td>0.236442</td>\n      <td>-0.185493</td>\n      <td>0.093455</td>\n      <td>0.278949</td>\n      <td>29.289595</td>\n    </tr>\n    <tr>\n      <th>4</th>\n      <td>20.486</td>\n      <td>24.457</td>\n      <td>25</td>\n      <td>0.236442</td>\n      <td>0.955819</td>\n      <td>0.093455</td>\n      <td>0.330418</td>\n      <td>0.236963</td>\n      <td>24.881120</td>\n    </tr>\n    <tr>\n      <th>5</th>\n      <td>24.457</td>\n      <td>28.429</td>\n      <td>11</td>\n      <td>0.955819</td>\n      <td>1.675377</td>\n      <td>0.330418</td>\n      <td>0.453070</td>\n      <td>0.122652</td>\n      <td>12.878433</td>\n    </tr>\n    <tr>\n      <th>6</th>\n      <td>28.429</td>\n      <td>32.400</td>\n      <td>5</td>\n      <td>1.675377</td>\n      <td>inf</td>\n      <td>0.453070</td>\n      <td>0.500000</td>\n      <td>0.046930</td>\n      <td>4.927664</td>\n    </tr>\n  </tbody>\n</table>\n</div>"
     },
     "execution_count": 8,
     "metadata": {},
     "output_type": "execute_result"
    }
   ],
   "source": [
    "table_3 = pd.DataFrame(columns=[\"$x_i$\", \"$x_{i+1}$\", \"$n_i$\", \"$z_i$\", \"$z_{i+1}$\", \"$\\Phi(z_i)$\", \"$\\Phi(z_{i+1})$\", \"$p_i$\", \"$n_i'$\"])\n",
    "table_3[\"$x_i$\"] = interval_temp['temp'].apply(lambda x: x.left).astype('float')\n",
    "table_3[\"$x_{i+1}$\"] = interval_temp['temp'].apply(lambda x: x.right).astype('float')\n",
    "table_3[\"$n_i$\"] =  table_temp[\"n_i\"]\n",
    "table_3[\"$z_i$\"] = (table_3[\"$x_i$\"] - table[\"$x_в$\"][1]) / math.sqrt(table[\"$D_в$\"][1])\n",
    "table_3[\"$z_i$\"].iloc[0] = -math.inf\n",
    "table_3[\"$z_{i+1}$\"] = (table_3[\"$x_{i+1}$\"] - table[\"$x_в$\"][1]) / math.sqrt(table[\"$D_в$\"][1])\n",
    "table_3[\"$z_{i+1}$\"].iloc[-1] = +math.inf\n",
    "table_3[\"$\\Phi(z_i)$\"] = table_3[\"$z_i$\"].apply(lambda x: Phi(x))\n",
    "table_3[\"$\\Phi(z_{i+1})$\"] = table_3[\"$z_{i+1}$\"].apply(lambda x: Phi(x))\n",
    "table_3[\"$p_i$\"] = table_3[\"$\\Phi(z_{i+1})$\"] - table_3[\"$\\Phi(z_i)$\"]\n",
    "table_3[\"$n_i'$\"] = table_3[\"$p_i$\"] * 105\n",
    "table_3"
   ],
   "metadata": {
    "collapsed": false,
    "pycharm": {
     "name": "#%%\n"
    }
   }
  },
  {
   "cell_type": "markdown",
   "source": [
    "Определение $\\chi^2_{набл}$ для второго признака, критические точки распределения определяются по таблице \\chi^2(0.05, 4) = 9.5::"
   ],
   "metadata": {
    "collapsed": false
   }
  },
  {
   "cell_type": "code",
   "execution_count": 9,
   "outputs": [
    {
     "data": {
      "text/plain": "   $\\chi^2_{набл}$  $\\chi^2(\\{alpha},k)$\n0         1.420902                   9.5",
      "text/html": "<div>\n<style scoped>\n    .dataframe tbody tr th:only-of-type {\n        vertical-align: middle;\n    }\n\n    .dataframe tbody tr th {\n        vertical-align: top;\n    }\n\n    .dataframe thead th {\n        text-align: right;\n    }\n</style>\n<table border=\"1\" class=\"dataframe\">\n  <thead>\n    <tr style=\"text-align: right;\">\n      <th></th>\n      <th>$\\chi^2_{набл}$</th>\n      <th>$\\chi^2(\\{alpha},k)$</th>\n    </tr>\n  </thead>\n  <tbody>\n    <tr>\n      <th>0</th>\n      <td>1.420902</td>\n      <td>9.5</td>\n    </tr>\n  </tbody>\n</table>\n</div>"
     },
     "execution_count": 9,
     "metadata": {},
     "output_type": "execute_result"
    }
   ],
   "source": [
    "table_chi = pd.DataFrame(columns=[\"$\\chi^2_{набл}$\", \"$\\chi^2(\\{alpha},k)$\"])\n",
    "table_chi.loc[0] = [((table_3[\"$n_i$\"] - table_3[\"$n_i'$\"]) ** 2).sum() / 105, 9.5]\n",
    "table_chi"
   ],
   "metadata": {
    "collapsed": false,
    "pycharm": {
     "name": "#%%\n"
    }
   }
  },
  {
   "cell_type": "markdown",
   "source": [
    "$\\chi^2_{набл} \\le \\chi^2(\\alpha,k)$ - следовательно принимается нулевая гипотеза $H_0$ - выборочные данные представляют значения случайной величины, распределенные по нормальному закону распределения с уровнем значимости $\\alpha = 0.05$.\n"
   ],
   "metadata": {
    "collapsed": false
   }
  },
  {
   "cell_type": "markdown",
   "metadata": {},
   "source": [
    "## Выводы\n",
    "\n",
    "В процессе выполнения лабораторной работы была вычислена точность и доверительный интервал для математического ожидания при неизвестном среднеквадратичном отклонении, а также границы доверительного интервала для среднеквадратичного отклонения. По полученным результатам можно сдеалать вывод, что при увеличении доверительной точности увеличивается доверительный интервал. Выполнена проверка гипотезы о нормальности заданного распределения с помощью критерия Пирсона. Для обоих признаков была принята нулевая гипотеза о том, что выборочные данные представляют значения случайной величины, распределенные по нормальному закону распределения с уровнем значимости $\\alpha = 0.05$\n"
   ]
  }
 ],
 "metadata": {
  "kernelspec": {
   "display_name": "Python 3",
   "language": "python",
   "name": "python3"
  },
  "language_info": {
   "codemirror_mode": {
    "name": "ipython",
    "version": 3
   },
   "file_extension": ".py",
   "mimetype": "text/x-python",
   "name": "python",
   "nbconvert_exporter": "python",
   "pygments_lexer": "ipython3",
   "version": "3.8.10"
  }
 },
 "nbformat": 4,
 "nbformat_minor": 4
}